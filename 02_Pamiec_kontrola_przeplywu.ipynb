{
 "cells": [
  {
   "cell_type": "markdown",
   "metadata": {},
   "source": [
    "# Podstawy programowania w Pythonie\n",
    "## Pamięć i adresowanie\n",
    "Z punktu widzenia analityka Python jest atrakcyjnym językiem progamowania, między innymi ze względu na swoją wydajność. Skoro jesteśmy zorientowani na wydajność/efektywność, musimy chociaż w podstawowym zakresie zrozumieć istotę zarządzania pamięcią i adresowania w programowaniu, a w szczególności w Pythonie. Zrozumienie tego zagadnienia ma znaczenie nie tylko dla szybkości naszych programów, ale przede wszystkim ich poprawności. Poniżej postaram się przybliżyć to zagadnienie w pewnym uproszczeniu, ale możliwie przystępnie.\n",
    "\n",
    "Efektywne zarządzanie pamięcią jest dla nas bardzo ważne z dwóch powodów: **pamięć jest wolna**, a dodatkowo w czasach dużych zbiorów danych **pamięć jest cenna**. Z tych powodów za wszelką cenę unikać będziemy kopiowania elementów w pamięci i przepisywania ich z miejsca na miejsce. Może wydawać nam się, że pamięć RAM jest \"szybka\", ponieważ jest znacznie szybsza niż dyski HDD i dużo szybsza niż SSD. Jest jednak dużo wolniejsza niż dzisiejsze CPU (stąd obecność pamięci podręcznej CPU, link na ten temat poniżej). Z punktu widzenia efektywności większości naszych programów pamięć jest wolna, dlatego będziemy unikać kopiowania, ale również odczytu i zapisu.\n",
    "\n",
    "Każdy obiekt przechowywany w pamięci, niezależnie od tego jak duży, ma swój adres. Dotyczy to zarówno małych obiektów (np. pojedynczy int) jak i dużych obiektów (nasz ogromny zbiór danych na którym chcemy pracować). Adresy obiektów zawsze są \"małe\", nawet jeżeli sam obiekt jest bardzo duży. Z tego powodu dużo łatwiej jest przekazać informację o adresie obiektu niż cały obiekt - utworzyć jego drugą kopię w pamięci.\n",
    "\n",
    "Spójrzmy na prosty przykład:"
   ]
  },
  {
   "cell_type": "code",
   "execution_count": 1,
   "metadata": {},
   "outputs": [
    {
     "name": "stdout",
     "output_type": "stream",
     "text": [
      "3 3\n",
      "3 4\n"
     ]
    }
   ],
   "source": [
    "a = 3\n",
    "b = a\n",
    "print(a, b)\n",
    "b = 4\n",
    "print(a, b)"
   ]
  },
  {
   "cell_type": "markdown",
   "metadata": {},
   "source": [
    "Jak widać dla liczby, operator przypisania \"=\" skutkuje skopiowaniem obiektu. Jak zachowa się ten operator w przypadku listy?"
   ]
  },
  {
   "cell_type": "code",
   "execution_count": 2,
   "metadata": {},
   "outputs": [
    {
     "name": "stdout",
     "output_type": "stream",
     "text": [
      "['red', 'blue', 'green', 'black']\n"
     ]
    }
   ],
   "source": [
    "kolory = [\"red\", \"blue\", \"green\"]\n",
    "kolory2 = kolory\n",
    "kolory2.append(\"black\")\n",
    "print(kolory)"
   ]
  },
  {
   "cell_type": "markdown",
   "metadata": {},
   "source": [
    "Po \"stworzeniu\" zmiennej kolory2 moglibyśmy spodziewać się skopiowanego obiektu. Wydawać by się mogło, że dodanie \"black\" do kolory2 nie powinno wpłynąć na kolory. W praktyce jednak, dla obiektu jakim jest lista operator \"=\" kopiuje adres (referencję/alias) do obiektu. Po linii:\n",
    "\n",
    "kolory2 = kolory\n",
    "\n",
    "zarówno zmienna kolory, jak i kolory2 zawierają adres tej samej listy. Możemy o tym pomyśleć jak o zapisywaniu adresu budynku na dwóch różnych kartkach. Kiedy powiemy do listy pod pewnym adresem (czytając adres z drugiej kartki - kolory2) dodaj \"black\", to wracając pod ten sam adres (który przeczytamy z pierwszej kartki - kolory), zobaczymy tę jedyną listę (ten sam budynek), która istnieje w pamięci.\n",
    "\n",
    "Wróćmy teraz do wcześniejszego przykładu i spróbujmy zrozumieć, co się tutaj dzieje. Przykład ten doskonale pokazuje jak trudne do wychwycenia błędy możemy spowodować, jeżeli będziemy pisać kod bez zrozumienia referencji."
   ]
  },
  {
   "cell_type": "code",
   "execution_count": 3,
   "metadata": {},
   "outputs": [
    {
     "name": "stdout",
     "output_type": "stream",
     "text": [
      "['red', 'blue', 'green', [4, 5, 6]]\n",
      "[['red', 'blue', 'green', [4, 5, 6]], [4, 5, 6]]\n"
     ]
    }
   ],
   "source": [
    "kolory = [\"red\", \"blue\", \"green\"]\n",
    "liczby = [4, 5, 6]\n",
    "\n",
    "listaMieszana1 = kolory\n",
    "listaMieszana1.append(liczby)\n",
    "print(listaMieszana1)\n",
    "\n",
    "listaMieszana2 = []\n",
    "listaMieszana2.append(kolory)\n",
    "listaMieszana2.append(liczby)\n",
    "print(listaMieszana2)"
   ]
  },
  {
   "cell_type": "markdown",
   "metadata": {},
   "source": [
    "Kiedy napiszemy: *listaMieszana1 = kolory*, zamiast: *listaMieszana1 = list(kolory)*, to zmienna listaMieszana1 nie jest adresem kopii, a jedynie nowym adresem starego obiektu. Z tego powodu pisząc:\n",
    "\n",
    "listaMieszana2.append(kolory)\n",
    "\n",
    "Na pierwszym miejscu nowej listy listaMieszana2 wstawiamy już listę mieszaną (zmodyfikowaliśmy wcześniej listę, która była pod \"adresem\" kolory).\n",
    "\n",
    "Spójrzmy ponownie na poprawnie napisany kod, który na dwa sposoby pokazuje jak stworzyć nowy obiekt (kopię):"
   ]
  },
  {
   "cell_type": "code",
   "execution_count": 4,
   "metadata": {},
   "outputs": [
    {
     "name": "stdout",
     "output_type": "stream",
     "text": [
      "['red', 'blue', 'green', [4, 5, 6]]\n",
      "[['red', 'blue', 'green'], [4, 5, 6]]\n"
     ]
    }
   ],
   "source": [
    "kolory = [\"red\", \"blue\", \"green\"]\n",
    "liczby = [4, 5, 6]\n",
    "\n",
    "listaMieszana1 = list(kolory)\n",
    "# lub alternatywnie\n",
    "listaMieszana1 = kolory.copy()\n",
    "\n",
    "listaMieszana1.append(liczby)\n",
    "print(listaMieszana1)\n",
    "\n",
    "listaMieszana2 = []\n",
    "listaMieszana2.append(kolory)\n",
    "listaMieszana2.append(liczby)\n",
    "print(listaMieszana2)"
   ]
  },
  {
   "cell_type": "markdown",
   "metadata": {},
   "source": [
    "* Wprowadzenie 64-bitowych procesorów jest bezpośrednio powiązane z adresowaniem pamięci: https://www.youtube.com/watch?v=KgiMzKb8dD0\n",
    "* Materiał, dla zainteresowanych, o tym jak istotne są rodzaje pamięci operacyjnej i podręcznej:\n",
    "https://www.extremetech.com/extreme/188776-how-l1-and-l2-cpu-caches-work-and-why-theyre-an-essential-part-of-modern-chips\n",
    "* Materiał, dla bardzo zainteresowanych, o niskopoziomowym działaniu pamięci RAM:\n",
    "https://www.youtube.com/watch?v=cNN_tTXABUA\n",
    "* Osoby mocniej zainteresowane programowaniem powinny dobrze rozumieć różnicę pomiędzy obiektem, referencją i wskaźnikiem."
   ]
  },
  {
   "cell_type": "markdown",
   "metadata": {},
   "source": [
    "## Kontrola przepływu\n",
    "\n",
    "### For, zakresy i iteratory\n",
    "Python umożliwia nam bardzo łatwe tworzenie zakresów liczb. Zobaczmy kilka przykładów z wykorzystaniem \"for\" i iteratora \"range\":"
   ]
  },
  {
   "cell_type": "code",
   "execution_count": 5,
   "metadata": {},
   "outputs": [
    {
     "name": "stdout",
     "output_type": "stream",
     "text": [
      "range(0, 4)\n",
      "Wyświetlmy wszystkie elementy range(4): \n",
      "0\n",
      "1\n",
      "2\n",
      "3\n",
      "Wyświetlmy wszystkie elementy range(2, 10, 2): \n",
      "2\n",
      "4\n",
      "6\n",
      "8\n",
      "Wyświetlmy wszystkie elementy range(0, -11, -3): \n",
      "0\n",
      "-3\n",
      "-6\n",
      "-9\n"
     ]
    }
   ],
   "source": [
    "# Kiedy będziemy chcieli wyświetlić zakres liczb, dostaniemy \"dziwny\" wynik:\n",
    "print(range(4))\n",
    "# Output: \"range(0, 4)\" informuje nas o tym, jaki iterator został stworzony.\n",
    "# Nie informuje jednak o wszystkich elementach, które potrafi wyświetlić.\n",
    "print(\"Wyświetlmy wszystkie elementy range(4): \")\n",
    "for i in range(4):\n",
    "    print(i)\n",
    "# Zobaczmy dwa inne przykłady:\n",
    "print(\"Wyświetlmy wszystkie elementy range(2, 10, 2): \")\n",
    "for i in range(2, 10, 2):\n",
    "    print(i)\n",
    "\n",
    "print(\"Wyświetlmy wszystkie elementy range(0, -11, -3): \")\n",
    "for i in range(0, -11, -3):\n",
    "    print(i)"
   ]
  },
  {
   "cell_type": "markdown",
   "metadata": {},
   "source": [
    "Iteratory umożliwiają nam łatwe poruszanie się po naszych obiektach, kiedy chcemy zajrzeć do każdego elementu."
   ]
  },
  {
   "cell_type": "code",
   "execution_count": 6,
   "metadata": {},
   "outputs": [
    {
     "name": "stdout",
     "output_type": "stream",
     "text": [
      "red\n",
      "blue\n",
      "green\n"
     ]
    }
   ],
   "source": [
    "kolory = [\"red\", \"blue\", \"green\"]\n",
    "for kolor in kolory:\n",
    "    print(kolor)"
   ]
  },
  {
   "cell_type": "markdown",
   "metadata": {},
   "source": [
    "**Uwaga!** Kiedy zastosujemy podobny manewr dla elementów słownika nasz iterator zwróci nam, domyślnie klucze słownika. Możemy jednak uzyskać pary ze słownika zwrócone w postaci dwuelementowych krotek (tuple).\n",
    "\n",
    "Jeżeli nie chcemy, żeby nasz wynik był krotką, a po prostu dwoma zmiennymi, z którymi chcemy coś zrobić, możemy wykorzystać ciekawą własność Pythona - automatyczne rozpakowywanie krotek. Jak widać poniżej, kiedy podaliśmy liczbę argumentów równą liczbie elementów pojedynczej krotki, Python od razu je rozpakował."
   ]
  },
  {
   "cell_type": "code",
   "execution_count": 7,
   "metadata": {},
   "outputs": [
    {
     "name": "stdout",
     "output_type": "stream",
     "text": [
      "imie\n",
      "nazwisko\n",
      "wiek\n",
      "('imie', 'Maciej')\n",
      "('nazwisko', 'Wilamowski')\n",
      "('wiek', 32)\n",
      "\n",
      "Rozpakowane krotki: \n",
      "imie Maciej\n",
      "nazwisko Wilamowski\n",
      "wiek 32\n"
     ]
    }
   ],
   "source": [
    "autor = {'imie': 'Maciej', 'nazwisko':'Wilamowski', 'wiek': 32}\n",
    "for element in autor:\n",
    "    print(element)\n",
    "for element in autor.items():\n",
    "    print(element)\n",
    "print(\"\\nRozpakowane krotki: \")\n",
    "for key, value in autor.items():\n",
    "    print(key, value)"
   ]
  },
  {
   "cell_type": "markdown",
   "metadata": {},
   "source": [
    "### Enumerate\n",
    "W niektórych przypadkach możemy potrzebować informacji nie tylko  o zawartości kolejnych elementów listy, ale również ich indeksach. W tym celu możemy wykorzystać iterator numerujący, enumerate():"
   ]
  },
  {
   "cell_type": "code",
   "execution_count": 8,
   "metadata": {},
   "outputs": [
    {
     "name": "stdout",
     "output_type": "stream",
     "text": [
      "0 red\n",
      "1 blue\n",
      "2 green\n"
     ]
    }
   ],
   "source": [
    "for i, kolor in enumerate(kolory):\n",
    "    print(i, kolor)"
   ]
  },
  {
   "cell_type": "markdown",
   "metadata": {},
   "source": [
    "### Zip\n",
    "Czasami możemy być w sytuacji, w której mamy dwie listy po których chcielibyśmy równolegle iterować. Przydaje się do tego zip(), który połączy listy i kolejne ich elementy zwróci w formie krotki (tuple). Liczba elementów zwróconych przez zip() będzie równa długości najkrótszej z list."
   ]
  },
  {
   "cell_type": "code",
   "execution_count": 9,
   "metadata": {},
   "outputs": [
    {
     "name": "stdout",
     "output_type": "stream",
     "text": [
      "red 4\n",
      "blue 5\n",
      "green 6\n",
      "\n",
      "Zip dla 3 elementów\n",
      "red 4 Matt\n",
      "blue 5 Ben\n",
      "green 6 John\n"
     ]
    }
   ],
   "source": [
    "kolory = [\"red\", \"blue\", \"green\"]\n",
    "liczby = [4, 5, 6, 7]\n",
    "imiona = [\"Matt\", \"Ben\", \"John\", \"Adam\", \"Jim\"]\n",
    "\n",
    "for kolor, liczba in zip(kolory,liczby):\n",
    "    print(kolor, liczba)\n",
    "\n",
    "print(\"\\nZip dla 3 elementów\")\n",
    "for kolor, liczba, imie in zip(kolory,liczby,imiona):\n",
    "    print(kolor, liczba, imie)"
   ]
  },
  {
   "cell_type": "markdown",
   "metadata": {},
   "source": [
    "### List Comprehensions\n",
    "Wykonywanie operacji/funkcji na wszystkich elementach list jest tak często wykorzystywane, że w Pythonie jest do tego celu specjalna instrukcja/składnia (List Comprehensions), której celem jest stworzenie listy na podstawie innej już istniejącej listy. Jest to jednoliniowy for, który ma następującą składnię:\n",
    "\n",
    "[co_zrobić(x) for x in jakas_lista if opcjonalny_test_logiczny]\n",
    "\n",
    "Przykładowo:"
   ]
  },
  {
   "cell_type": "code",
   "execution_count": 10,
   "metadata": {},
   "outputs": [
    {
     "name": "stdout",
     "output_type": "stream",
     "text": [
      "[0, 1, 4, 9, 16]\n",
      "[0, 4, 16]\n",
      "[0, 4, 12, 24, 40]\n"
     ]
    }
   ],
   "source": [
    "lista1 = list(range(5))\n",
    "print([x**2 for x in lista1])\n",
    "# Możemy wykonać tę operację np. tylko dla liczb parzystych.\n",
    "print([x**2 for x in lista1 if x % 2 == 0])\n",
    "# Nasza operacja może być więcej niż jednoargumentowa\n",
    "lista2 = list(range(2, 12, 2))\n",
    "print([x * y for (x, y) in zip(lista1, lista2)])"
   ]
  },
  {
   "cell_type": "markdown",
   "metadata": {},
   "source": [
    "List comprehension wspiera nie tylko if ale, co naturalne, również else. Musimy tylko zmenić kolejność."
   ]
  },
  {
   "cell_type": "code",
   "execution_count": 11,
   "metadata": {},
   "outputs": [
    {
     "name": "stdout",
     "output_type": "stream",
     "text": [
      "['parzysta', 'nieparzysta', 'parzysta', 'nieparzysta', 'parzysta', 'nieparzysta', 'parzysta']\n"
     ]
    }
   ],
   "source": [
    "print([\"parzysta\" if x%2 ==0 else \"nieparzysta\" for x in range(7) ])"
   ]
  },
  {
   "cell_type": "markdown",
   "metadata": {},
   "source": [
    "W Pythonie istnieją analogicznie do list-comprehension również set-comprehension, dict-comprehension oraz tuple-comprehension. Różnią się one nieznacznie składnią."
   ]
  },
  {
   "cell_type": "code",
   "execution_count": 11,
   "metadata": {},
   "outputs": [
    {
     "name": "stdout",
     "output_type": "stream",
     "text": [
      "{0, 1, 2, 3, 4, 5, 6, 7, 8, 9}\n",
      "{'Stasiek': 151.02456605366527, 'Marian': 192.34862207005335, 'Grażyna': 192.33177393302978, 'Edytka': 201.52989036645351}\n",
      "(151.02456605366527, 192.34862207005335, 192.33177393302978, 201.52989036645351)\n"
     ]
    }
   ],
   "source": [
    "# set-comprehension\n",
    "print({x for x in range(0, 10)})\n",
    "\n",
    "# dict-comprehension\n",
    "sprzedawcy = [\"Stasiek\", \"Marian\", \"Grażyna\", \"Edytka\"]\n",
    "zyski = [\n",
    "    [\n",
    "        68.6323016715173,\n",
    "        53.663069180805714,\n",
    "        28.72919520134226\n",
    "    ],\n",
    "    [\n",
    "        59.268881046056,\n",
    "        68.21620511196737,\n",
    "        45.67325401335106,\n",
    "        19.19028189867892\n",
    "    ],\n",
    "    [\n",
    "        83.78841938349751,\n",
    "        11.080818213657128,\n",
    "        97.46253633587514\n",
    "    ],\n",
    "    [\n",
    "        94.65635437221411,\n",
    "        5.170971230450149,\n",
    "        9.566364468760668,\n",
    "        92.1362002950286\n",
    "    ]\n",
    "]\n",
    "print({sprzedawca : sum(zysk) for sprzedawca, zysk in zip(sprzedawcy, zyski)})\n",
    "\n",
    "# tuple-comprehension wygląda nieco inaczej \n",
    "print(tuple(sum(zysk) for zysk in zyski))"
   ]
  },
  {
   "cell_type": "markdown",
   "metadata": {},
   "source": [
    "### If oraz while\n",
    "W ramach kontroli przepływu pozostały jeszcze dwa podstawowe elementy: if oraz while. Ich implementacja jest w pełni analogiczna do innych językow programowania."
   ]
  },
  {
   "cell_type": "code",
   "execution_count": 12,
   "metadata": {},
   "outputs": [
    {
     "name": "stdout",
     "output_type": "stream",
     "text": [
      "Wartość w przedziale [2, 10]\n"
     ]
    }
   ],
   "source": [
    "x = 3\n",
    "if x < 2:\n",
    "    print(\"Wartość poniżej\")\n",
    "elif x > 10:\n",
    "    print(\"Wartość powyżej\")\n",
    "else:\n",
    "    print(\"Wartość w przedziale [2, 10]\")"
   ]
  },
  {
   "cell_type": "markdown",
   "metadata": {},
   "source": [
    "Do łączenia warunków używamy operatorów and lub or:"
   ]
  },
  {
   "cell_type": "code",
   "execution_count": 23,
   "metadata": {},
   "outputs": [
    {
     "name": "stdout",
     "output_type": "stream",
     "text": [
      "Niestety. Spróbuj już za rok.\n"
     ]
    }
   ],
   "source": [
    "prog = 4.7\n",
    "srednia = 4.8\n",
    "warunek = True\n",
    "if srednia > prog and not warunek:\n",
    "    print(\"Otrzymujesz stypendium.\")\n",
    "else:\n",
    "    print(\"Niestety. Spróbuj już za rok.\")"
   ]
  },
  {
   "cell_type": "markdown",
   "metadata": {},
   "source": [
    "Przyjrzyjmy się dokładniej co zwracają.\n",
    "*Uwaga! and i or wcale nie zwracają tylko True albo False"
   ]
  },
  {
   "cell_type": "code",
   "execution_count": 44,
   "metadata": {},
   "outputs": [
    {
     "name": "stdout",
     "output_type": "stream",
     "text": [
      "False\n",
      "3\n",
      "[1]\n",
      "{}\n"
     ]
    }
   ],
   "source": [
    "# or sprawdza, czy wartość logiczna parametru pierwszego jest różna od 0. Jeśli tak, zwraca pierwszy parametr, jeśli nie - drugi\n",
    "print(srednia > prog and not warunek)\n",
    "print(3 or 0)\n",
    "# and sprawdza, czy wartość logiczna parametru pierwszego jest różna od 0. Jeśli tak, zwraca drugi parametr, jeśli nie - pierwszy\n",
    "print(2 and [1])\n",
    "print({} and 10)"
   ]
  },
  {
   "cell_type": "code",
   "execution_count": 13,
   "metadata": {},
   "outputs": [
    {
     "name": "stdout",
     "output_type": "stream",
     "text": [
      "1 2.0 0.7182818284590451\n",
      "2 2.25 0.4682818284590451\n",
      "3 2.37037037037037 0.3479114580886753\n",
      "4 2.44140625 0.2768755784590451\n",
      "5 2.4883199999999994 0.22996182845904567\n",
      "6 2.5216263717421135 0.19665545671693163\n",
      "7 2.546499697040712 0.17178213141833298\n",
      "8 2.565784513950348 0.1524973145086972\n",
      "9 2.5811747917131984 0.13710703674584668\n",
      "10 2.5937424601000023 0.12453936835904278\n",
      "11 2.6041990118975287 0.11408281656151642\n",
      "12 2.613035290224676 0.10524653823436925\n",
      "13 2.6206008878857308 0.09768094057331433\n"
     ]
    }
   ],
   "source": [
    "import math\n",
    "# Opis pozostałych funkcji dostępnych w module math.\n",
    "# https://docs.python.org/3/library/math.html\n",
    "math.pow(2, 3)\n",
    "tol = 0.1\n",
    "diff = 1\n",
    "k = 1\n",
    "while(diff > tol):\n",
    "    diff = math.e - abs(math.pow((1 + 1 / k), k))\n",
    "    print(k, math.pow((1 + 1 / k), k), diff)\n",
    "    k += 1"
   ]
  },
  {
   "cell_type": "markdown",
   "metadata": {},
   "source": [
    "### Continue\n",
    "Czasami  chcemy zrezygnować z wykonywania kodu w tej konkretnej iteracji pętli. Możemy wykorzystać do tego polecenie continue. Przykładowo:"
   ]
  },
  {
   "cell_type": "code",
   "execution_count": 14,
   "metadata": {},
   "outputs": [
    {
     "name": "stdout",
     "output_type": "stream",
     "text": [
      "1\n",
      "2\n",
      "4\n",
      "5\n",
      "7\n",
      "8\n",
      "10\n"
     ]
    }
   ],
   "source": [
    "for i in range(11):\n",
    "    if i % 3 == 0:\n",
    "        continue\n",
    "    else:\n",
    "        print(i)"
   ]
  },
  {
   "cell_type": "markdown",
   "metadata": {},
   "source": [
    "### Break\n",
    "Każdą z pętli (for i while) możemy też przerwać przy pomocy komendy break."
   ]
  },
  {
   "cell_type": "code",
   "execution_count": 15,
   "metadata": {},
   "outputs": [
    {
     "name": "stdout",
     "output_type": "stream",
     "text": [
      "1 2.0 0.7182818284590451\n",
      "2 2.25 0.4682818284590451\n",
      "3 2.37037037037037 0.3479114580886753\n",
      "4 2.44140625 0.2768755784590451\n",
      "5 2.4883199999999994 0.22996182845904567\n",
      "6 2.5216263717421135 0.19665545671693163\n",
      "7 2.546499697040712 0.17178213141833298\n",
      "8 2.565784513950348 0.1524973145086972\n",
      "9 2.5811747917131984 0.13710703674584668\n",
      "10 2.5937424601000023 0.12453936835904278\n",
      "11 2.6041990118975287 0.11408281656151642\n",
      "12 2.613035290224676 0.10524653823436925\n",
      "13 2.6206008878857308 0.09768094057331433\n",
      "14 2.6271515563008685 0.0911302721581766\n",
      "15 2.6328787177279187 0.08540311073112639\n",
      "Chyba zagapiliśmy się z tolerancją ... przerywamy.\n"
     ]
    }
   ],
   "source": [
    "import math\n",
    "# Opis pozostałych funkcji dostępnych w module math.\n",
    "# https://docs.python.org/3/library/math.html\n",
    "math.pow(2, 3)\n",
    "tol = 0\n",
    "diff = 1\n",
    "k = 1\n",
    "while(diff > tol):\n",
    "    diff = math.e - abs(math.pow((1 + 1 / k), k))\n",
    "    print(k, math.pow((1 + 1 / k), k), diff)\n",
    "    k += 1\n",
    "    if k > 15:\n",
    "        print(\"Chyba zagapiliśmy się z tolerancją ... przerywamy.\")\n",
    "        break"
   ]
  },
  {
   "cell_type": "markdown",
   "metadata": {},
   "source": [
    "### Pass\n",
    "Ostatnim elementem tego typu do kontroli przepływ jest pass. Chyba najczęstszym powodem użycia pass jest sytuacja, w której nie mamy jeszcze gotowego kodu, ale zależy nam na tym, aby kod się wykonał, np. w celu sprawdzenia poprawności. Czasami składnia poniekąd wymusza na nas wykonanie pewnej operacji. Może to być spowodowane również tym, że chcemy zostawić w kodzie logikę przepływu, ale w pewnym miejscu nic nie robić.  Nie możemy takiej linii zostawić pustej. Zamiast tego możemy użyć pass."
   ]
  },
  {
   "cell_type": "code",
   "execution_count": 16,
   "metadata": {
    "collapsed": true
   },
   "outputs": [],
   "source": [
    "for i in range(11):\n",
    "    if i % 3 == 0:\n",
    "        continue\n",
    "    else:\n",
    "        # W tym miejscu musimy dodać później odpowiedni komunikat\n",
    "        pass"
   ]
  },
  {
   "cell_type": "markdown",
   "metadata": {},
   "source": [
    "## Obsługa błędów\n",
    "Gdy wykorzystujemy Pythona do analizy danych względnie często znajdziemy się w sytuacji, w której nasz kod będzie zwracał błędy. Najprostszym tego typu przykładem może być praca z brakującymi danymi lub wykonywanie operacji dzielenia przez zero. W tej sytuacji nie chcemy, aby cały progam przestawał działać.\n",
    "\n",
    "W poniższym kodzie nasz program się \"wysypie\" w trzeciej linii i nie wykona czwartej (co można łatwo sprawdzić wykonując od razu kolejną komórkę)."
   ]
  },
  {
   "cell_type": "code",
   "execution_count": 17,
   "metadata": {},
   "outputs": [
    {
     "ename": "ZeroDivisionError",
     "evalue": "division by zero",
     "output_type": "error",
     "traceback": [
      "\u001b[0;31m---------------------------------------------------------------------------\u001b[0m",
      "\u001b[0;31mZeroDivisionError\u001b[0m                         Traceback (most recent call last)",
      "\u001b[0;32m<ipython-input-17-bab6b50fb68e>\u001b[0m in \u001b[0;36m<module>\u001b[0;34m()\u001b[0m\n\u001b[1;32m      1\u001b[0m \u001b[0ma\u001b[0m \u001b[0;34m=\u001b[0m \u001b[0;36m0\u001b[0m\u001b[0;34m\u001b[0m\u001b[0m\n\u001b[1;32m      2\u001b[0m \u001b[0mb\u001b[0m \u001b[0;34m=\u001b[0m \u001b[0;36m4\u001b[0m\u001b[0;34m\u001b[0m\u001b[0m\n\u001b[0;32m----> 3\u001b[0;31m \u001b[0mc\u001b[0m \u001b[0;34m=\u001b[0m \u001b[0mb\u001b[0m \u001b[0;34m/\u001b[0m \u001b[0ma\u001b[0m\u001b[0;34m\u001b[0m\u001b[0m\n\u001b[0m\u001b[1;32m      4\u001b[0m \u001b[0md\u001b[0m \u001b[0;34m=\u001b[0m \u001b[0ma\u001b[0m \u001b[0;34m+\u001b[0m \u001b[0mb\u001b[0m\u001b[0;34m\u001b[0m\u001b[0m\n",
      "\u001b[0;31mZeroDivisionError\u001b[0m: division by zero"
     ]
    }
   ],
   "source": [
    "a = 0\n",
    "b = 4\n",
    "c = b / a\n",
    "d = a + b"
   ]
  },
  {
   "cell_type": "code",
   "execution_count": 18,
   "metadata": {},
   "outputs": [
    {
     "ename": "NameError",
     "evalue": "name 'd' is not defined",
     "output_type": "error",
     "traceback": [
      "\u001b[0;31m---------------------------------------------------------------------------\u001b[0m",
      "\u001b[0;31mNameError\u001b[0m                                 Traceback (most recent call last)",
      "\u001b[0;32m<ipython-input-18-e983f374794d>\u001b[0m in \u001b[0;36m<module>\u001b[0;34m()\u001b[0m\n\u001b[0;32m----> 1\u001b[0;31m \u001b[0md\u001b[0m\u001b[0;34m\u001b[0m\u001b[0m\n\u001b[0m",
      "\u001b[0;31mNameError\u001b[0m: name 'd' is not defined"
     ]
    }
   ],
   "source": [
    "d"
   ]
  },
  {
   "cell_type": "code",
   "execution_count": 19,
   "metadata": {},
   "outputs": [
    {
     "name": "stdout",
     "output_type": "stream",
     "text": [
      "Próbowaliśmy dzielić przez zero!\n",
      "inf 4\n"
     ]
    }
   ],
   "source": [
    "a = 0\n",
    "b = 4\n",
    "try:\n",
    "    c = b / a\n",
    "# Przy operacji dzielenia dwóch liczb jedyny błąd jakiego mogę się spodziewać, to:\n",
    "except ZeroDivisionError as e:\n",
    "    print(\"Próbowaliśmy dzielić przez zero!\")\n",
    "    c = b * float('inf')\n",
    "# Tutaj nie spodziewam się błędu.\n",
    "d = a + b\n",
    "print (c, d)"
   ]
  },
  {
   "cell_type": "markdown",
   "metadata": {},
   "source": [
    "Ze względu na fakt, iż chcemy wiedzieć jak obsłużyć dany błąd (wiedzieć co zrobić, gdy wystąpi, np. przypisując \"inf\") nie powinniśmy starać się łapać wszystkich błędów (w poniższej komórce nie wykona się ostatnie polecenie). Niemniej w niektórych przypadkach, szczególnie w momencie tworzenia/testowania kodu wyłapywanie wszystkich błędów może być przydatne."
   ]
  },
  {
   "cell_type": "code",
   "execution_count": 20,
   "metadata": {},
   "outputs": [
    {
     "name": "stdout",
     "output_type": "stream",
     "text": [
      "Second argument to a division or modulo operation was zero.\n"
     ]
    },
    {
     "ename": "NameError",
     "evalue": "name 'f' is not defined",
     "output_type": "error",
     "traceback": [
      "\u001b[0;31m---------------------------------------------------------------------------\u001b[0m",
      "\u001b[0;31mNameError\u001b[0m                                 Traceback (most recent call last)",
      "\u001b[0;32m<ipython-input-20-1f24925d1f0c>\u001b[0m in \u001b[0;36m<module>\u001b[0;34m()\u001b[0m\n\u001b[1;32m      7\u001b[0m \u001b[0;34m\u001b[0m\u001b[0m\n\u001b[1;32m      8\u001b[0m \u001b[0mg\u001b[0m \u001b[0;34m=\u001b[0m \u001b[0ma\u001b[0m \u001b[0;34m+\u001b[0m \u001b[0mb\u001b[0m\u001b[0;34m\u001b[0m\u001b[0m\n\u001b[0;32m----> 9\u001b[0;31m \u001b[0mprint\u001b[0m \u001b[0;34m(\u001b[0m\u001b[0mf\u001b[0m\u001b[0;34m,\u001b[0m \u001b[0mg\u001b[0m\u001b[0;34m)\u001b[0m\u001b[0;34m\u001b[0m\u001b[0m\n\u001b[0m",
      "\u001b[0;31mNameError\u001b[0m: name 'f' is not defined"
     ]
    }
   ],
   "source": [
    "a = 0\n",
    "b = 4\n",
    "try:\n",
    "    f = b / a\n",
    "except Exception as e:\n",
    "    print (e.__doc__)\n",
    "    \n",
    "g = a + b\n",
    "print (f, g)"
   ]
  },
  {
   "cell_type": "markdown",
   "metadata": {},
   "source": [
    "Z tego powodu możemy chcieć znaleźć błąd, wykonać dodatkowy kod (np. logowanie), a potem mimo wszystko zatrzymać skrypt."
   ]
  },
  {
   "cell_type": "code",
   "execution_count": 21,
   "metadata": {},
   "outputs": [
    {
     "name": "stdout",
     "output_type": "stream",
     "text": [
      "Second argument to a division or modulo operation was zero.\n",
      "Mamy błąd, zatrzymuję skrypt.\n"
     ]
    },
    {
     "ename": "ZeroDivisionError",
     "evalue": "division by zero",
     "output_type": "error",
     "traceback": [
      "\u001b[0;31m---------------------------------------------------------------------------\u001b[0m",
      "\u001b[0;31mZeroDivisionError\u001b[0m                         Traceback (most recent call last)",
      "\u001b[0;32m<ipython-input-21-d7dac19b90c1>\u001b[0m in \u001b[0;36m<module>\u001b[0;34m()\u001b[0m\n\u001b[1;32m      2\u001b[0m \u001b[0mb\u001b[0m \u001b[0;34m=\u001b[0m \u001b[0;36m4\u001b[0m\u001b[0;34m\u001b[0m\u001b[0m\n\u001b[1;32m      3\u001b[0m \u001b[0;32mtry\u001b[0m\u001b[0;34m:\u001b[0m\u001b[0;34m\u001b[0m\u001b[0m\n\u001b[0;32m----> 4\u001b[0;31m     \u001b[0mf\u001b[0m \u001b[0;34m=\u001b[0m \u001b[0mb\u001b[0m \u001b[0;34m/\u001b[0m \u001b[0ma\u001b[0m\u001b[0;34m\u001b[0m\u001b[0m\n\u001b[0m\u001b[1;32m      5\u001b[0m \u001b[0;32mexcept\u001b[0m \u001b[0mException\u001b[0m \u001b[0;32mas\u001b[0m \u001b[0me\u001b[0m\u001b[0;34m:\u001b[0m\u001b[0;34m\u001b[0m\u001b[0m\n\u001b[1;32m      6\u001b[0m     \u001b[0mprint\u001b[0m \u001b[0;34m(\u001b[0m\u001b[0me\u001b[0m\u001b[0;34m.\u001b[0m\u001b[0m__doc__\u001b[0m\u001b[0;34m)\u001b[0m\u001b[0;34m\u001b[0m\u001b[0m\n",
      "\u001b[0;31mZeroDivisionError\u001b[0m: division by zero"
     ]
    }
   ],
   "source": [
    "a = 0\n",
    "b = 4\n",
    "try:\n",
    "    f = b / a\n",
    "except Exception as e:\n",
    "    print (e.__doc__)\n",
    "    print (\"Mamy błąd, zatrzymuję skrypt.\")\n",
    "    raise \n",
    "    \n",
    "g = a + b\n",
    "print (f, g)"
   ]
  },
  {
   "cell_type": "markdown",
   "metadata": {},
   "source": [
    "W praktyce obsługa błędów może być bardziej rozbudowana. Na tym etapie nie musimy jednak wiedzieć nic więcej. Zainteresowani mogą chcieć zapoznać się z poniższymi linkami:\n",
    "* https://docs.python.org/3/tutorial/errors.html\n",
    "* https://jeffknupp.com/blog/2013/02/06/write-cleaner-python-use-exceptions/\n",
    "* http://www.pythonforbeginners.com/error-handling/exception-handling-in-python\n",
    "* http://eli.thegreenplace.net/2008/08/21/robust-exception-handling/"
   ]
  }
 ],
 "metadata": {
  "kernelspec": {
   "display_name": "Python 3",
   "language": "python",
   "name": "python3"
  },
  "language_info": {
   "codemirror_mode": {
    "name": "ipython",
    "version": 3
   },
   "file_extension": ".py",
   "mimetype": "text/x-python",
   "name": "python",
   "nbconvert_exporter": "python",
   "pygments_lexer": "ipython3",
   "version": "3.6.2"
  }
 },
 "nbformat": 4,
 "nbformat_minor": 2
}
