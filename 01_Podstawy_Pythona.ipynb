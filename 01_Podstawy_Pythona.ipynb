{
 "cells": [
  {
   "cell_type": "markdown",
   "metadata": {},
   "source": [
    "## Python, IPython, Jupyter\n",
    "Python jest językiem programowania interpretowanym/kompilowanym w locie. Zwykle skrypty Pythona/programy wykonują się od początku do końca. Nie ma możliwości przerwania programu na chwilę, zachowania jego stanu i wrócenia do wykonywania operacji. W celu rozwiązania tego problemu stworzony został IPython (Interactive Python), który pozwala na interaktywną pracę ze skryptami, czyli zachowuje obiekty w pamięci na stałe, dzięki czemu zawsze można do nich wrócić. Można też wykonywać kolejne kody, przerywać ich wykonywanie, a wszystko zostanie w pamięci. Jupyter to nakładka graficzna do obsługi IPythona.\n",
    "\n",
    "Istnieje bardzo wiele środowisk, w których możemy pracować, począwszy od prostego notatnika, vina, nano, notepad++(qq), Sublime Text, przez Jupyter Notebooka, aż do rozwiniętych IDE (pyCharm, Spyder etc.). Docelowo każdy może wybrać to rozwiązanie, które akurat mu pasuje. Na potrzeby kursu wystarczy nam praca z Jupyter Notebookiem, który jest bardzo wygodny, szybki, ma przyjazny interfejs i ułatwia wstawianie czytelnych, ustrukturalizowanych komentarzy tekstowych.\n",
    "\n",
    "## Obsługa Notebooka\n",
    "\n",
    "Obsługa notatnika jest wyjątkowo prosta. Kilka najważniejszych informacji:\n",
    "* Pojedynczą komórkę wykonujemy kombinacją klawiszy Shift+Enter (od razu przejdziemy do następnej) lub Ctrl+Enter (pozostaniemy w tej samej komórce).\n",
    "* Jeżeli chcemy uruchomić wszystkie komórki lub np. wszystkie poniżej obecnie aktywnej, powyżej wybieramy Cell > i stosowną opcję Run.\n",
    "\n",
    "Możemy korzystać z ikon znajdujących się powyżej:\n",
    "* Ikona kwadratu zatrzyma obecnie wykonywaną operację.\n",
    "* Ikona \"+\" dodaje nową, pustą komórkę pod obecnie wybraną.\n",
    "* Strzałkami możemy przesuwać komórki.\n",
    "* Nożyczki pozwalają komórkę wyciąć, a ikona obok pozwala ją skopiować.\n",
    "* Z rozwijanego menu możemy wybrać typ komórki (np. czy tekstowa - Markdown, czy może kod - Code).\n",
    "* Kernel (dany notatnik) możemy uruchomić ponownie wybierając Kernel > Restart powyżej lub ikonę zakręconej strzałki. Ponowne uruchomienie notatnika spowoduje utratę wszystkich wyników.\n",
    "* Co jakiś czas notatnik zapisuje się automatycznie. Niemniej dobrze jest w kluczowych momentach korzystać z ręcznego zapisu (Ctrl+S). Warto to zrobić tuż przed uruchamianiem nowego kodu.\n",
    "\n",
    "Zdecydowanie warto przyzwyczajać się do obsługi skrótów klawiszowych. Jeżeli jest jakakolwiek operacja, którą wykonujemy systematycznie, dobrą praktyką jest sprawdzić, czy jest dla niej skrót klawiszowy i zacząć z niego korzystać. Nawet jeżeli początkowo będzie nam to szło powoli, to z czasem zdecydowanie zwiększymy szybkość pracy.\n",
    "* Kombinacja klawiszy Ctrl+/ służy do komentowania linii.\n",
    "* Kombinacją Shift+Del lub Ctrl+D kasujemy bieżącą linię.\n",
    "* Tab pozwala nam na łatwie robienie wcięć (gdy jesteśmy na początku linii lub mamy zaznaczonych ich kilka), a Shift+Tab na ich usuwanie (kiedy jesteśmy na początku linii lub jest wiele linii zaznaczonych). \n",
    "* Tab pozwala również na autouzupełnianie gdy jesteśmy na końcu linii.\n",
    "* Shift+Tab, gdy jesteśmy w środku linii, pozwala na zapoznanie się  z dokumentacją danego obiektu (zwykle gdy jesteśmy wewnątrz okrągłego nawiasu).\n",
    "* Klikając Help -> Keyboard Shortcuts możemy zobaczyć pozostałe skróty klawiszowe.\n",
    "* Niektórym osobom może brakować skrótów klawiszowych do duplikacji linii. Przy pierwszym problemie możemy zobaczyć moc rozwiązań Open Source [Duplikacja linii](https://github.com/jupyter/notebook/issues/1816).\n",
    "* Jeżeli nie podoba nam się klasyczny wygląd Notebooka, jak najbardziej możemy z tym coś zrobić. [Themes](https://github.com/dunovank/jupyter-themes)\n",
    "\n",
    "Skróty klawiszowe mamy również w Notebooku dostępne dla pracy na komórkach. Możemy być wewnątrz komórki (edytować daną komórkę) lub pracować na komórkach. Pomiędzy trybami przechodzimy klawiszami Esc/Enter. Będąc w trybie edycji komórek zadziałają m. in. nastepujące skróty klawiszowe:\n",
    "* A - dodaj komórkę na górze.\n",
    "* B - dodaj komórkę na dole.\n",
    "* C - skopiuj komórkę, X- wytnij, V - wklej.\n",
    "* Shift+Up - zaznacz komórki do góry, Shift+Down - zaznacz komórki w dół.\n"
   ]
  },
  {
   "cell_type": "markdown",
   "metadata": {},
   "source": [
    "# Podstawy: organizacja kodu i struktury danych.\n",
    "## Organizacja kodu\n",
    "Pierwszą rzeczą, którą trzeba wiedzieć o Pythonie, szczególnie jeżeli wcześniej mieliśmy do czynienia z innymi językami programowania, jest to, że organizacja kodu opiera się o wcięcia (indent). Nie mamy tutaj swobody w wykorzystywaniu białych znaków (z wyjątkiem pustych linii). Bloki kodu ustalane są za pomocą poziomów wcięć, a nie nawiasów klamrowych (\"{}\").\n",
    "W związku z tym poniższy kod jest błędny i nie wykona się poprawnie:"
   ]
  },
  {
   "cell_type": "code",
   "execution_count": 2,
   "metadata": {},
   "outputs": [
    {
     "ename": "IndentationError",
     "evalue": "unexpected indent (<ipython-input-2-5aab6bebd8ca>, line 2)",
     "output_type": "error",
     "traceback": [
      "\u001b[1;36m  File \u001b[1;32m\"<ipython-input-2-5aab6bebd8ca>\"\u001b[1;36m, line \u001b[1;32m2\u001b[0m\n\u001b[1;33m    y = 2\u001b[0m\n\u001b[1;37m    ^\u001b[0m\n\u001b[1;31mIndentationError\u001b[0m\u001b[1;31m:\u001b[0m unexpected indent\n"
     ]
    }
   ],
   "source": [
    "x = 1\n",
    "    y = 2"
   ]
  },
  {
   "cell_type": "code",
   "execution_count": 3,
   "metadata": {},
   "outputs": [],
   "source": [
    "# Musimy usunąć niepotrzebne wcięcie, aby kod wykonał się poprawnie.\n",
    "x = 1\n",
    "y = 2"
   ]
  },
  {
   "cell_type": "markdown",
   "metadata": {},
   "source": [
    "Początkowo może być to dla nas uciążliwe, ale bardzo szybko uda nam się przyzwyczaić. Zaletą tego podejścia jest wymuszenie czytelnego kodu. Wcięcia zawsze są poprawne, a liczba niepotrzebnych znaków ({}) i linii jest ograniczona. Nie występują też znaki końca linii (\";\").\n",
    "\n",
    "**Wskazówka: Jupyter Notebook obsługuje wcięcia z użyciem Tab i Shift+Tab dla wielu i jednej linii (dla jednej linii kursor musi być ustawiony na jej początku). Alternatywnie możemy również używać Ctrl+] oraz Ctrl+[ do indentacji linii.**"
   ]
  },
  {
   "cell_type": "markdown",
   "metadata": {},
   "source": [
    "## Funkcja print i \"witaj świecie\"\n",
    "Wyświetlanie komunikatów obsługuje funkcja \"print\"."
   ]
  },
  {
   "cell_type": "code",
   "execution_count": 4,
   "metadata": {},
   "outputs": [
    {
     "name": "stdout",
     "output_type": "stream",
     "text": [
      "Hello world! :)\n"
     ]
    }
   ],
   "source": [
    "print(\"Hello world! :)\")\n",
    "# Od wersji 3 pythona print jest funkcją, więc wymagane jest użycie nawiasów.\n",
    "# W starszej wersji Pythona poniższy kod też był prawidłowy.\n",
    "# print \"Hello world! :)\"\n",
    "# Zwykle właśnie po poleceniu print bez nawiasów najłatwiej rozpoznać, że mamy do czynienia z drugą wersją Pythona."
   ]
  },
  {
   "cell_type": "markdown",
   "metadata": {},
   "source": [
    "## Zmienne\n",
    "Python jest językiem interpretowanym (nie wymaga kompilacji), który charakteryzuje się dynamicznym typowaniem zmiennych - nie musimy deklarować ich typu. Intepreter sam spróbuje go odgadnąć."
   ]
  },
  {
   "cell_type": "code",
   "execution_count": 5,
   "metadata": {},
   "outputs": [
    {
     "name": "stdout",
     "output_type": "stream",
     "text": [
      "Typ zmiennej e to: <class 'float'> , a zmiennej text:  <class 'str'> , a zmienna pi to:  <class 'str'>\n"
     ]
    }
   ],
   "source": [
    "e = 2.72\n",
    "pi = \"3.14\"\n",
    "text = \"Witaj świecie\"\n",
    "print(\"Typ zmiennej e to:\", type(e),\n",
    "      \", a zmiennej text: \", type(text),\n",
    "      \", a zmienna pi to: \", type(pi))\n",
    "# Otwarty nawias funkcji print umożliwia łamanie linii z dowolnymi wcięciami."
   ]
  },
  {
   "cell_type": "markdown",
   "metadata": {},
   "source": [
    "Widać przy okazji, że funkcja print może przyjmować wiele argumentów.\n",
    "\n",
    "Wyświetlanie zawartości zmiennych możemy uzyskać też w inny sposób:"
   ]
  },
  {
   "cell_type": "code",
   "execution_count": 6,
   "metadata": {},
   "outputs": [
    {
     "name": "stdout",
     "output_type": "stream",
     "text": [
      "Typ zmiennej e to: <class 'float'>, a zmiennej text: <class 'str'>, a zmienna pi to: <class 'str'>\n"
     ]
    }
   ],
   "source": [
    "print(\"Typ zmiennej e to: %s, a zmiennej text: %s, a zmienna pi to: %s\"\n",
    "      % (type(e), type(text), type(pi)))"
   ]
  },
  {
   "cell_type": "markdown",
   "metadata": {},
   "source": [
    "W ten sposób możemy lepiej kontrolować sposób formatowania zmiennych.\n",
    "Unikamy niepotrzebnej spacji przed przecinkiem.\n",
    "Więcej na ten temat możemy przeczytać np. tutaj: https://pyformat.info/"
   ]
  },
  {
   "cell_type": "markdown",
   "metadata": {},
   "source": [
    "Dynamiczne typowanie ma swoje zalety:\n",
    "* szybkość pisania kodu,\n",
    "* ograniczona ilość kodu,\n",
    "\n",
    "ale również wady:\n",
    "* wolniejsze wykonywanie programu,\n",
    "* ryzyko powstania trudnych do wychwycenia błędów.\n",
    "\n",
    "Python pozwala nam na łatwy typecasting (zmianę typu zmiennej w locie):"
   ]
  },
  {
   "cell_type": "code",
   "execution_count": 7,
   "metadata": {},
   "outputs": [
    {
     "name": "stdout",
     "output_type": "stream",
     "text": [
      "2.723.14\n",
      "5.86\n"
     ]
    }
   ],
   "source": [
    "# To jest złączenie dwóch stringów z wykorzystaniem operatora \"+\":\n",
    "print(str(e) + pi)\n",
    "# A to liczba:\n",
    "print(e + float(pi))"
   ]
  },
  {
   "cell_type": "code",
   "execution_count": 8,
   "metadata": {},
   "outputs": [
    {
     "ename": "ValueError",
     "evalue": "could not convert string to float: 'Witaj świecie'",
     "output_type": "error",
     "traceback": [
      "\u001b[1;31m---------------------------------------------------------------------------\u001b[0m",
      "\u001b[1;31mValueError\u001b[0m                                Traceback (most recent call last)",
      "\u001b[1;32m<ipython-input-8-4b88700bdf49>\u001b[0m in \u001b[0;36m<module>\u001b[1;34m()\u001b[0m\n\u001b[0;32m      1\u001b[0m \u001b[1;31m# Taka konwersja nam się już jednak (na szczęście) nie uda:\u001b[0m\u001b[1;33m\u001b[0m\u001b[1;33m\u001b[0m\u001b[0m\n\u001b[1;32m----> 2\u001b[1;33m \u001b[0mprint\u001b[0m\u001b[1;33m(\u001b[0m\u001b[0me\u001b[0m \u001b[1;33m+\u001b[0m \u001b[0mfloat\u001b[0m\u001b[1;33m(\u001b[0m\u001b[0mtext\u001b[0m\u001b[1;33m)\u001b[0m\u001b[1;33m)\u001b[0m\u001b[1;33m\u001b[0m\u001b[0m\n\u001b[0m",
      "\u001b[1;31mValueError\u001b[0m: could not convert string to float: 'Witaj świecie'"
     ]
    }
   ],
   "source": [
    "# Taka konwersja nam się już jednak (na szczęście) nie uda:\n",
    "print(e + float(text))"
   ]
  },
  {
   "cell_type": "markdown",
   "metadata": {},
   "source": [
    "## Operatory\n",
    "Poza oczywistymi operatorami (+,-,/,\\*) w Pythonie mamy również dostępne dzielenie modulo (// - dzielnik, % - reszta) oraz potęgowanie \\*\\*.\n",
    "\n",
    "Operatory relacji są standardowe: >=, >, <=, <, ==, !=.\n",
    "\n",
    "Logiczne operatory to & - AND, | - OR, ^ - XOR, ~ - NOT.\n"
   ]
  },
  {
   "cell_type": "markdown",
   "metadata": {},
   "source": [
    "## Struktury danych\n",
    "\n",
    "### Obiekty\n",
    "Przed opisem innych struktur danych warto powiedzieć kilka słów o obiektach.\n",
    "\n",
    "Różnice pomiędzy obiektami, a funkcjami możemy w uproszczeniu opisać następująco.\n",
    "**Funkcje to jedynie zestaw instrukcji do wykonania. Nie posiadają \"stanu\" i nie mogą \"trwać\"/\"istnieć\". Tymczasem obiekty to istniejące twory, których może równolegle być wiele, a każdy z nich może być w innym stanie.**\n",
    "\n",
    "Upraszczając, obiekt to złożony element, który może posiadać wiele zmiennych oraz metod (funkcji). Zarówno do zmiennych będących elementem danego obiektu, jak i dostępnych metod zwracamy się z użyciem kropki.\n",
    "\n",
    "``` python\n",
    "# Wyświetlenie zawartości \"zmienna1\" będącej elementem obiektu \"obiekt1\"\n",
    "print(obiekt1.zmienna1)\n",
    "# Funkcji użyjemy podobnie\n",
    "wynik = obiekt1.funkcja1(pi)\n",
    "```\n",
    "Dobrym przykładem obiektu może być np. prostokąt. Prostokąt będzie posiadał pewne atrybuty (długość jednego boku, i długość drugiego boku) oraz metody (np. policz obwód, policz powierzchnię). Więcej o obiektach dowiemy się w dalszej części kursu.\n",
    "\n",
    "\n",
    "### Podstawowe struktury danych\n",
    "Cztery podstawowe struktury danych w Pythonie to:\n",
    "* Listy\n",
    "* Krotki (tuple)\n",
    "* Słowniki\n",
    "* Zbiory\n",
    "\n",
    "W Pythonie istnieje tablica jako typ danych, ale w praktyce prawie nigdy nie jest wykorzystywana. Dla dużych tablic/macierzy numerycznych wykorzystywane jest Numpy, a pozostałe przypadki łatwiej obsłużyć jest z wykorzystaniem listy. Pełna dokumentacja dostępna jest tutaj: https://docs.python.org/3/tutorial/datastructures.html.\n"
   ]
  },
  {
   "cell_type": "markdown",
   "metadata": {},
   "source": [
    "### Listy\n",
    "Listy są bardzo wygodnym i elastycznym sposobem na przechowywanie danych. Listy są dynamicznymi obiektami, które mogą zmieniać stan (*ang. mutable*). Możemy je dowolnie rozszerzać i modyfikować, co powoduje, że są bardzo praktyczne w codziennym użyciu. Prześledźmy poniższy kod, aby poznać ich możliwości.\n",
    "\n",
    "*Uwaga!* W Pythonie numeracja zaczyna się od 0. Dotyczy to zarówno list jak i iteratorów. Tylko w wyjątkowych sytuacjach (zewnętrznych bibliotekach) może sie zdarzyć, że numeracja rozpocznie się od 1."
   ]
  },
  {
   "cell_type": "code",
   "execution_count": 9,
   "metadata": {},
   "outputs": [
    {
     "name": "stdout",
     "output_type": "stream",
     "text": [
      "[] []\n",
      "red\n",
      "['red', 'blue', 'green', 'orange']\n",
      "['blue', 'green']\n",
      "['red', 'green']\n"
     ]
    }
   ],
   "source": [
    "# Listy tworzymy z wykorzystaniem nawiasów kwadratowych.\n",
    "pustaLista = []\n",
    "# Możemy też stworzyć listę tworząc nowy obiekt, który jest listą.\n",
    "pustaLista2 = list()\n",
    "print(pustaLista, pustaLista2)\n",
    "kolory = [\"red\", \"blue\", \"green\", \"orange\"]\n",
    "# Do elementów listy możemy się zwracać indeksem liczbowym\n",
    "print(kolory[0])\n",
    "print(kolory[:])\n",
    "# Wypisywanie elementów o indeksach [1,3)\n",
    "print(kolory[1:3])\n",
    "# Wypisywanie co 2 elementu o indeksach [0,3)\n",
    "print(kolory[0:3:2])"
   ]
  },
  {
   "cell_type": "code",
   "execution_count": 10,
   "metadata": {},
   "outputs": [
    {
     "name": "stdout",
     "output_type": "stream",
     "text": [
      "['red', 'blue', 'green', 'orange', 'yellow']\n",
      "['red', 'blue', 'green', 'orange', 'yellow', 'black']\n",
      "['red', 'blue', 'black', 'green', 'orange', 'yellow', 'black']\n"
     ]
    }
   ],
   "source": [
    "# Możemy dodać element tablicy na jej końcu na dwa sposoby\n",
    "kolory[len(kolory):] =[\"yellow\"]\n",
    "print(kolory)\n",
    "# lub skorzystać z dostępnej metody obiektu jakim jest lista.\n",
    "kolory.append(\"black\")\n",
    "print(kolory)\n",
    "# Możemy również wstawić element w środek:\n",
    "kolory.insert(2, \"black\")\n",
    "print(kolory)"
   ]
  },
  {
   "cell_type": "code",
   "execution_count": 11,
   "metadata": {},
   "outputs": [
    {
     "name": "stdout",
     "output_type": "stream",
     "text": [
      "Liczba wystąpień 'black': 2\n",
      "Czy 'black' jest w liście kolorów?: True\n",
      "Czy nie ma 'black' liście kolorów?: False\n"
     ]
    }
   ],
   "source": [
    "# Sprawdzić ile razy występuje jakiś element:\n",
    "print(\"Liczba wystąpień 'black':\", kolory.count(\"black\"))\n",
    "# Sprawdzić czy jakiś element występuje w zbiorze lub nie:\n",
    "print(\"Czy 'black' jest w liście kolorów?:\", \"black\" in kolory)\n",
    "print(\"Czy nie ma 'black' liście kolorów?:\", \"black\" not in kolory)"
   ]
  },
  {
   "cell_type": "code",
   "execution_count": 12,
   "metadata": {},
   "outputs": [
    {
     "name": "stdout",
     "output_type": "stream",
     "text": [
      "[4, 5, 6]\n",
      "[4, 6]\n",
      "[4, 6]\n"
     ]
    }
   ],
   "source": [
    "# Istnieją dwa sposoby usuwania elementów\n",
    "liczby = [4, 5, 6]\n",
    "print(liczby)\n",
    "# Usunięcie pierwszego elementu, który będzie równy danej zawartości:\n",
    "liczby.remove(5)\n",
    "print(liczby)\n",
    "\n",
    "liczby = [4, 5, 6]\n",
    "# Usunięcie elementu korzystając z jego indeksu:\n",
    "liczby.pop(1)\n",
    "print(liczby)"
   ]
  },
  {
   "cell_type": "code",
   "execution_count": 13,
   "metadata": {},
   "outputs": [
    {
     "name": "stdout",
     "output_type": "stream",
     "text": [
      "[6, 5, 4]\n"
     ]
    }
   ],
   "source": [
    "liczby = [4, 5, 6]\n",
    "# Listy możemy również odwrócić:\n",
    "liczby.reverse()\n",
    "print(liczby)"
   ]
  },
  {
   "cell_type": "code",
   "execution_count": 14,
   "metadata": {},
   "outputs": [
    {
     "name": "stdout",
     "output_type": "stream",
     "text": [
      "['red', 'blue', 'green', 4, 5, 6]\n",
      "['red', 'blue', 'green', [4, 5, 6]]\n",
      "[['red', 'blue', 'green'], [4, 5, 6]]\n"
     ]
    }
   ],
   "source": [
    "kolory = [\"red\", \"blue\", \"green\"]\n",
    "liczby = [4, 5, 6]\n",
    "# Listy sa bardzo elastyczne. Możemy mieć na liście różne typy danych:\n",
    "listaMieszana = kolory + liczby\n",
    "print(listaMieszana)\n",
    "# Możemy mieć nawet listę list i inne kombinacje:\n",
    "listaMieszana1 = list(kolory)\n",
    "listaMieszana1.append(liczby)\n",
    "print(listaMieszana1)\n",
    "listaMieszana2 = []\n",
    "listaMieszana2.append(kolory)\n",
    "listaMieszana2.append(liczby)\n",
    "print(listaMieszana2)"
   ]
  },
  {
   "cell_type": "markdown",
   "metadata": {},
   "source": [
    "Powyżej użyliśmy przed przypisaniem funkcji list(), w celu stworzenia nowej listy. Dlaczego musieliśmy to zrobić, aby uzyskać pożądany efekt tworząc listaMieszana2? Jak wyglądałaby listaMieszana2, gdyby nie użyć funkcji, a napisać po prostu: listaMieszana1 = kolory?\n",
    "\n",
    "W tym miejscu warto przetestować to rozwiązanie i zastanowić się, czy wiemy z czego wynika odmienne zachowanie. Wrócimy do tego zagadnienia już niebawem."
   ]
  },
  {
   "cell_type": "markdown",
   "metadata": {},
   "source": [
    "Naturalnie możliwe jest również sortowanie list. Co zrobić, żeby posortować listę w odwrotnej kolejności? Ustawmy kursor na słowie \"sort\" lub w środku nawiasu za \"sort\" i wciśnijmy Shift+Tab."
   ]
  },
  {
   "cell_type": "code",
   "execution_count": 15,
   "metadata": {},
   "outputs": [
    {
     "name": "stdout",
     "output_type": "stream",
     "text": [
      "['blue', 'green', 'red']\n",
      "Długość przed czyszczeniem 3\n",
      "[]\n"
     ]
    }
   ],
   "source": [
    "# Posortować:\n",
    "kolory.sort()\n",
    "print(kolory)\n",
    "print(\"Długość przed czyszczeniem\", len(kolory))\n",
    "# ... i wyczyścić:\n",
    "kolory.clear()\n",
    "print(kolory)"
   ]
  },
  {
   "cell_type": "markdown",
   "metadata": {},
   "source": [
    "### Zbiory\n",
    "Najbliższym krewniakiem list są zbiory, które również należą do grupy obiektów modyfikowalnych (ang. *mutable*). Na zbiorach możemy stosować podobne operacje jak w przypadku list. Przejście pomiędzy jedną, a drugą strukturą danych jest bardzo proste i może być realizowane \"w locie\"."
   ]
  },
  {
   "cell_type": "code",
   "execution_count": 16,
   "metadata": {},
   "outputs": [
    {
     "name": "stdout",
     "output_type": "stream",
     "text": [
      "['black', 'blue', 'green', 'yellow', 'black', 'green', 'orange', 'red']\n"
     ]
    }
   ],
   "source": [
    "kolory1 = ['black', 'blue', 'green','yellow']\n",
    "kolory2 = ['black', 'green', 'orange', 'red']\n",
    "# Możemy połączyć obydwie listy stosując operację dodawania:\n",
    "wszystkieKolory = kolory1 + kolory2\n",
    "print(wszystkieKolory)"
   ]
  },
  {
   "cell_type": "markdown",
   "metadata": {},
   "source": [
    "Jak widać w tej liście mamy podwójne występowanie \"black\" i \"green\". Co jeżeli chcielibyśmy traktować listy jak zbiory, uniknąć duplikatów? Możemy w locie zamienić listy na zbiory, które połączymy.\n",
    "Aby uniknąć pomyłek i zachować spójność logiczną, operator łączenia zbiorów jest inny niż list.\n",
    "\n",
    "Zwróćmy uwagę na to, że zbiory wyświetlane są z innym nawiasem (\"{}\"). Zbiór możemy stworzyć korzystając z nazwy klasy set() lub umieszczając w nawiasach {} pewne elementy. UWAGA! stworzenie zmiennej \"var = {}\" spowoduje, że stanie się ona słownikiem, a nie zbiorem (więcej poniżej)."
   ]
  },
  {
   "cell_type": "code",
   "execution_count": 17,
   "metadata": {},
   "outputs": [
    {
     "name": "stdout",
     "output_type": "stream",
     "text": [
      "set()\n",
      "{'navy', 'brown'}\n",
      "{'orange', 'brown', 'red', 'black', 'blue', 'navy', 'yellow', 'green'}\n",
      "{'orange', 'brown', 'red', 'black', 'blue', 'navy', 'violet', 'yellow', 'green'}\n",
      "{'orange', 'brown', 'black', 'blue', 'navy', 'violet', 'yellow', 'green'}\n",
      "['orange', 'brown', 'black', 'blue', 'navy', 'violet', 'yellow', 'green']\n"
     ]
    }
   ],
   "source": [
    "# Podobnie jak w przypadku listy możemy utworzyć nowy obiekt.\n",
    "pustyZbior = set()\n",
    "print(pustyZbior)\n",
    "kolory3 = {'brown', 'navy'}\n",
    "print(kolory3)\n",
    "wszystkieKolory = set(kolory1) | set(kolory2) | kolory3\n",
    "# dodajmy sobie jeszcze jeden kolor, do zbioru elementy dodajemy - add (do listy dołączaliśmy - append)\n",
    "print(wszystkieKolory)\n",
    "wszystkieKolory.add(\"violet\")\n",
    "print(wszystkieKolory)\n",
    "# dla treningu usuniemy jeszcze czerwony, discard (usuwanie z listy - remove)\n",
    "wszystkieKolory.discard(\"red\")\n",
    "print(wszystkieKolory)\n",
    "# Możemy ten zbiór w locie zamienić na listę\n",
    "wszystkieKolory = list(wszystkieKolory)\n",
    "print(wszystkieKolory)"
   ]
  },
  {
   "cell_type": "markdown",
   "metadata": {},
   "source": [
    "Mamy dostępne wszystkie możliwe przecięcia zbiorów (dla zbiorów x i y):\n",
    "* Łączenie x.update(y), wersja z operatorem: x|=y\n",
    "* Przecięcie x.intersection_update(y), wersja z operatorem: x&=y\n",
    "* Różnicę x.difference_update(y), wersja z operatorem: x-=y\n",
    "* Różnicę symetryczną x.symmetric_difference_update(y), wersja z operatorem: x^=y\n",
    "\n",
    "Przykładowo:"
   ]
  },
  {
   "cell_type": "code",
   "execution_count": 18,
   "metadata": {},
   "outputs": [
    {
     "name": "stdout",
     "output_type": "stream",
     "text": [
      "{'black', 'green'}\n",
      "{'red', 'blue', 'orange', 'yellow'}\n"
     ]
    }
   ],
   "source": [
    "wspolneKolory = set(kolory1) & set(kolory2)\n",
    "print(wspolneKolory)\n",
    "niewspolneKolory = set(kolory1) ^ set(kolory2)\n",
    "print(niewspolneKolory)"
   ]
  },
  {
   "cell_type": "markdown",
   "metadata": {},
   "source": [
    "Naturalnie możemy też sprawdzać, czy zbiory się w sobie zawierają:"
   ]
  },
  {
   "cell_type": "code",
   "execution_count": 19,
   "metadata": {},
   "outputs": [
    {
     "name": "stdout",
     "output_type": "stream",
     "text": [
      "Czy kolory1 zawiera w całości kolory2? False\n",
      "Czy kolory1 zawiera w całości zbiór ['black', 'blue']? True\n"
     ]
    }
   ],
   "source": [
    "print(\"Czy kolory1 zawiera w całości kolory2?\", set(kolory1) > set(kolory2))\n",
    "print(\"Czy kolory1 zawiera w całości zbiór ['black', 'blue']?\", set(kolory1) > set(['black', 'blue']))"
   ]
  },
  {
   "cell_type": "markdown",
   "metadata": {},
   "source": [
    "### Słownik\n",
    "Bliskim kuzynem zbioru jest słownik. Jeżeli zbiór gwarantuje nam unikatowość elementów, to możemy ich używać jako kluczy/indeksów. Do każdego klucza możemy przypisać wartość. Słownik stanowi w pewnym sensie rozszerzenie zbioru. W zbiorze mamy unikatowe wartości, w słowniku unikatowe klucze. Tworząc słownik również używamy nawiasów klamrowych {}."
   ]
  },
  {
   "cell_type": "code",
   "execution_count": 20,
   "metadata": {},
   "outputs": [
    {
     "name": "stdout",
     "output_type": "stream",
     "text": [
      "{} {}\n",
      "{'imie': 'Maciej', 'nazwisko': 'Wilamowski', 'wiek': 31}\n",
      "{'imie': 'Maciej', 'nazwisko': 'Wilamowski', 'wiek': 31, 'wzrost': 192}\n",
      "{'imie': 'Maciej', 'nazwisko': 'Wilamowski', 'wiek': 31, 'wzrost': 192, 1: 'Python >> R'}\n",
      "{'imie': 'Maciej', 'nazwisko': 'Wilamowski', 'wzrost': 192, 1: 'Python >> R'}\n"
     ]
    }
   ],
   "source": [
    "pustySlownik = {}\n",
    "pustySlownik2 = dict()\n",
    "print(pustySlownik, pustySlownik2)\n",
    "autor = {'imie': 'Maciej', 'nazwisko':'Wilamowski', 'wiek': 31}\n",
    "print(autor)\n",
    "# dodawanie elementów to po prostu definiowanie wartości dla klucza\n",
    "autor[\"wzrost\"] = 192\n",
    "print(autor)\n",
    "# kluczem może być też liczba, nie tylko string.\n",
    "autor[1] = \"Python >> R\"\n",
    "print(autor)\n",
    "# możemy również usunąć pojedynczy element słownika:\n",
    "del autor[\"wiek\"]\n",
    "print(autor)"
   ]
  },
  {
   "cell_type": "code",
   "execution_count": 21,
   "metadata": {},
   "outputs": [
    {
     "name": "stdout",
     "output_type": "stream",
     "text": [
      "{'imie': 'Maciej', 'nazwisko': 'Wilamowski', 'wzrost': 192, 1: 'Python >> R', 'wiek': 32}\n"
     ]
    }
   ],
   "source": [
    "# Podobnie jak w przypadku zbiorów możemy łączyć/aktualizować ze sobą dwa słowniki\n",
    "wiekAutora = {'wiek': 32}\n",
    "autor.update(wiekAutora)\n",
    "print(autor)"
   ]
  },
  {
   "cell_type": "markdown",
   "metadata": {},
   "source": [
    "Inne operacje, które były możliwe na zbiorach, nie mogą być stosowane na słownikach, ponieważ w dwóch słownikach dla tego samego klucza możemy mieć zdefiniowane rózne wartości. Wiele operacji byłoby więc niejednoznacznych.\n",
    "Nic nie stoi na przeszkodzie, aby operować na zbiorach samych kluczy, które potem możemy wykorzystać do naszych potrzeb."
   ]
  },
  {
   "cell_type": "code",
   "execution_count": 22,
   "metadata": {},
   "outputs": [
    {
     "name": "stdout",
     "output_type": "stream",
     "text": [
      "{1, 'wzrost', 'imie', 'nazwisko', 'wiek'}\n"
     ]
    }
   ],
   "source": [
    "print(set(autor.keys()))"
   ]
  },
  {
   "cell_type": "markdown",
   "metadata": {},
   "source": [
    "Czasem możemy chcieć wypisać elementy słownika parami (klucz/wartość)"
   ]
  },
  {
   "cell_type": "code",
   "execution_count": 23,
   "metadata": {},
   "outputs": [
    {
     "name": "stdout",
     "output_type": "stream",
     "text": [
      "dict_items([('imie', 'Maciej'), ('nazwisko', 'Wilamowski'), ('wzrost', 192), (1, 'Python >> R'), ('wiek', 32)])\n"
     ]
    }
   ],
   "source": [
    "print(autor.items())"
   ]
  },
  {
   "cell_type": "markdown",
   "metadata": {},
   "source": [
    "Słowniki posiadają jedną ogromną zaletę. Klucze są indeksowane, dzięki czemu wyszukiwanie elementów w swłowniku jest bardzo szybkie $O(1)$. Wiąże się to jednak z pewnym koztem, mianowicie słownik zajmuje w pamięci więcej miejsca niż same dane które zachowuje. \n",
    "\n",
    "*Uwaga!* Kluczami w słownikach mogą być wyłącznie stringi lub liczby."
   ]
  },
  {
   "cell_type": "markdown",
   "metadata": {},
   "source": [
    "### Sekwencje/krotki\n",
    "Ostatnim wbudowanym typem są krotki (tuples). W praktyce, z punktu widzenia analityka danych tej struktury danych nie wykorzystujemy bezpośrednio zbyt często. Pod pewnymi względami krotki są podobne do list. Do ich elementów możemy zwracać się numerem indeksu, mogą zawierać różne typy zmiennych, być zagnieżdżone, etc.\n",
    "\n",
    "Do struktury krotek przypisany jest nawias okrągły \"(\", dla przypomnienia: dla listy to kwadratowy \"[\", a zbiorów klamrowy \"{\"."
   ]
  },
  {
   "cell_type": "code",
   "execution_count": 24,
   "metadata": {},
   "outputs": [
    {
     "name": "stdout",
     "output_type": "stream",
     "text": [
      "(5, 10, 15, 'Hurray!')\n",
      "10\n",
      "Hurray!\n"
     ]
    }
   ],
   "source": [
    "tuple1 = (5, 10, 15, \"Hurray!\")\n",
    "print(tuple1)\n",
    "print(tuple1[1])\n",
    "print(tuple1[3])"
   ]
  },
  {
   "cell_type": "markdown",
   "metadata": {},
   "source": [
    "Istnieje jednak pewna zasadnicza różnica. Krotki są obiekatmi statycznymi/niemodyfikowalnymi ang. *immutable*). Z tego powodu nie możemy ich modyfikować po utworzeniu ani dodawać do nich elementów (zobacz poniższy kod).\n",
    "\n",
    "Jest to zupełnie inne zachowanie niż w przypadku list, zbiorów i słowników, ktore są dynamiczne i modyfikowalne (mutable), a dzięki temu elastyczne i wygodne z punktu widzenia szybkiego kodowania.\n",
    "\n",
    "Dlaczego więc istnieją krotki i obiekty statyczne? Ze względu na ich efektywność. Jeżeli nie możemy z nimi \"nic\" zrobić, to są proste w obsłudze, a w konsekwencji możemy mieć do nich szybki i efektywny dostęp. W praktyce jedynym przypadkiem, kiedy będziemy korzystać z krotek, to zwracanie wielu argumentów funkcji (o tym za chwilę)."
   ]
  },
  {
   "cell_type": "code",
   "execution_count": 25,
   "metadata": {},
   "outputs": [
    {
     "ename": "TypeError",
     "evalue": "'tuple' object does not support item assignment",
     "output_type": "error",
     "traceback": [
      "\u001b[1;31m---------------------------------------------------------------------------\u001b[0m",
      "\u001b[1;31mTypeError\u001b[0m                                 Traceback (most recent call last)",
      "\u001b[1;32m<ipython-input-25-eadde8908b34>\u001b[0m in \u001b[0;36m<module>\u001b[1;34m()\u001b[0m\n\u001b[1;32m----> 1\u001b[1;33m \u001b[0mtuple1\u001b[0m\u001b[1;33m[\u001b[0m\u001b[1;36m1\u001b[0m\u001b[1;33m]\u001b[0m \u001b[1;33m=\u001b[0m \u001b[1;36m5\u001b[0m\u001b[1;33m\u001b[0m\u001b[0m\n\u001b[0m",
      "\u001b[1;31mTypeError\u001b[0m: 'tuple' object does not support item assignment"
     ]
    }
   ],
   "source": [
    "tuple1[1] = 5"
   ]
  },
  {
   "cell_type": "markdown",
   "metadata": {},
   "source": [
    "### Stringi\n",
    "Co ciekawe, innym niemodyfikowalnym typem danych w pythonie jest... string. Stringom poświęcimy więcej czasu w późniejszej częściu kursu. W pythonie możemy do generacji stringów wykorzystywać zarówno pojedynczy ', jak i podwójny \" cudzysłów. Potrójny znak ''' oznacza, że rozpoczynamy stringa, który będzie zawierał wiele linii (znak nowej linii zostanie automatycznie przekonwertowany)."
   ]
  },
  {
   "cell_type": "code",
   "execution_count": 26,
   "metadata": {},
   "outputs": [
    {
     "name": "stdout",
     "output_type": "stream",
     "text": [
      "h e l l\n",
      "hell\n",
      "helloworld\n",
      "To jest string,\n",
      "który zawiera \n",
      "wiele \n",
      "linii ... \n"
     ]
    }
   ],
   "source": [
    "a = \"hello\"\n",
    "b = 'world'\n",
    "# Możemy wypisać pierwsze cztery znaki po kolei:\n",
    "print(a[0], a[1], a[2], a[3])\n",
    "# Albo \"na raz\"\n",
    "print(a[0:4])\n",
    "# Sumując dwa stringi uzyskamy trzeci inny obiekt. a i b pozostaną niezmienione.\n",
    "print(a + b)\n",
    "c = '''To jest string,\n",
    "który zawiera \n",
    "wiele \n",
    "linii ... '''\n",
    "print(c)"
   ]
  },
  {
   "cell_type": "markdown",
   "metadata": {},
   "source": [
    "Zauważmy, że każdy string jest również obiektem. Stringi posiadają wiele wbudowanych metod, które rozwiązują najczęściej spotykane problemy. Zobaczmy poniżej kilka przykładów."
   ]
  },
  {
   "cell_type": "code",
   "execution_count": 27,
   "metadata": {},
   "outputs": [
    {
     "name": "stdout",
     "output_type": "stream",
     "text": [
      "Hello\n",
      "False\n",
      "HELLO\n",
      "hello\n",
      "To Jest Tytuł\n"
     ]
    }
   ],
   "source": [
    "print(a.capitalize())\n",
    "print(a.isdigit())\n",
    "print(a.upper())\n",
    "print(\"HELlo\".lower())\n",
    "print(\"to jest tytuł\".title())"
   ]
  },
  {
   "cell_type": "markdown",
   "metadata": {},
   "source": [
    "W Pythonie możemy używać także tzw 'placeholderów'. Oznacza się je poprzez nawiasy klamrowe {}, które służą jako koszyki - miejsca w tekście, które uzupełniamy własnym kodem w metodzie .format. Najlepiej zrozumieć to na przykładzie:"
   ]
  },
  {
   "cell_type": "code",
   "execution_count": 28,
   "metadata": {},
   "outputs": [
    {
     "name": "stdout",
     "output_type": "stream",
     "text": [
      "Nazywam się Michał Dyczko. Mam 21 lat, mieszkam w Warszawa.\n"
     ]
    }
   ],
   "source": [
    "imie = \"Michał\"\n",
    "nazwisko = \"Dyczko\"\n",
    "lat = 21\n",
    "miasto = \"Warszawa\"\n",
    "przedstawienie = \"Nazywam się {} {}. Mam {} lat, mieszkam w {}.\".format(imie, nazwisko, lat, miasto)\n",
    "# Python automatycznie wstawia zmienne w takiej kolejności w jakiej je podaliśmy,\n",
    "# ale nie musi tak być jeśli pomiędzy nawiasy (wszystkie!) wstawimy numery zmiennych, do których się odnosimy \n",
    "print(przedstawienie)"
   ]
  },
  {
   "cell_type": "markdown",
   "metadata": {},
   "source": [
    "UWAGA: Od wersji 3.6 mamy również o wiele wygodniejszą konstrukcję f-strings. Jej zaletą jest nie tylko przejrzystość, ale również efektywność.\n",
    "https://cito.github.io/blog/f-strings/"
   ]
  },
  {
   "cell_type": "code",
   "execution_count": 29,
   "metadata": {},
   "outputs": [
    {
     "name": "stdout",
     "output_type": "stream",
     "text": [
      "Nazywam się Michał Dyczko. Mam 21 lat, mieszkam w Warszawa\n"
     ]
    }
   ],
   "source": [
    "przedstawienie = f'Nazywam się {imie} {nazwisko}. Mam {lat} lat, mieszkam w {miasto}.'\n",
    "print(przedstawienie)"
   ]
  },
  {
   "cell_type": "markdown",
   "metadata": {},
   "source": [
    "Więcej informacji można znaleźć pod tym linkiem: https://pyformat.info/"
   ]
  },
  {
   "cell_type": "markdown",
   "metadata": {},
   "source": [
    "Możemy wykonywać wiele operacji na stringach:"
   ]
  },
  {
   "cell_type": "code",
   "execution_count": 30,
   "metadata": {},
   "outputs": [
    {
     "name": "stdout",
     "output_type": "stream",
     "text": [
      "Jestem takim samotnym wyrazem\n",
      "['Jestem', 'takim', 'samotnym', 'wyrazem']\n",
      "Już nie jestem takim samotnym wyrazem\n"
     ]
    }
   ],
   "source": [
    "# możemy nimi łączyć np. listę stringów\n",
    "to_connect = [\"Jestem\", \"takim\", \"samotnym\", \"wyrazem\"]\n",
    "joined = \" \".join(to_connect)\n",
    "print(joined)\n",
    "# możemy także rozdzielić string względem jakiegoś innego stringa\n",
    "split = joined.split(\" \")\n",
    "print(split)\n",
    "# możemy również podmieniać niektóre fragmenty tekstu\n",
    "replaced = joined.replace(\"Jestem\", \"Już nie jestem\")\n",
    "print(replaced)"
   ]
  },
  {
   "cell_type": "markdown",
   "metadata": {},
   "source": [
    "Metod jest znacznie więcej. Możemy je zobaczyć odwiedzając dokumentację (https://docs.python.org/3/library/string.html)\n",
    "lub uzupełniając tabem poniższy kod."
   ]
  },
  {
   "cell_type": "code",
   "execution_count": 31,
   "metadata": {},
   "outputs": [
    {
     "ename": "SyntaxError",
     "evalue": "invalid syntax (<ipython-input-31-b4ce96ddcee0>, line 1)",
     "output_type": "error",
     "traceback": [
      "\u001b[1;36m  File \u001b[1;32m\"<ipython-input-31-b4ce96ddcee0>\"\u001b[1;36m, line \u001b[1;32m1\u001b[0m\n\u001b[1;33m    a.\u001b[0m\n\u001b[1;37m      ^\u001b[0m\n\u001b[1;31mSyntaxError\u001b[0m\u001b[1;31m:\u001b[0m invalid syntax\n"
     ]
    }
   ],
   "source": [
    "a."
   ]
  }
 ],
 "metadata": {
  "kernelspec": {
   "display_name": "Python 3",
   "language": "python",
   "name": "python3"
  },
  "language_info": {
   "codemirror_mode": {
    "name": "ipython",
    "version": 3
   },
   "file_extension": ".py",
   "mimetype": "text/x-python",
   "name": "python",
   "nbconvert_exporter": "python",
   "pygments_lexer": "ipython3",
   "version": "3.6.2"
  }
 },
 "nbformat": 4,
 "nbformat_minor": 2
}
