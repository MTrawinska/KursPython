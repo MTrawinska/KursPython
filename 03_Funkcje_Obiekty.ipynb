{
 "cells": [
  {
   "cell_type": "markdown",
   "metadata": {},
   "source": [
    "# Funkcje i obiekty\n",
    "## Funkcje\n",
    "Pisanie prostych funkcji, na potrzeby organizacji kodu i unikania dublowania niepotrzebnej pracy, to chleb powszedni przy analizie danych. Funkcje w Pythonie wyróżniają na tle innych języków programowania dwa aspekty:\n",
    "* automatyczne pakowanie wielu zwracanych wartości,\n",
    "* przekazywanie argumentów po ich nazwie.\n",
    "\n",
    "Zobaczmy to na przykładach począwszy od najprostszej funkcji:"
   ]
  },
  {
   "cell_type": "code",
   "execution_count": 1,
   "metadata": {},
   "outputs": [
    {
     "name": "stdout",
     "output_type": "stream",
     "text": [
      "28.274333882308138\n"
     ]
    }
   ],
   "source": [
    "from math import pi\n",
    "# prosta funkcja z jednym niezbędnym argumentem i jednym opcjonalnym, zwracająca liczbę jako wynik\n",
    "def circle_surface(radius, pi = pi):\n",
    "    return pi * radius ** 2\n",
    "\n",
    "print(circle_surface(3))"
   ]
  },
  {
   "cell_type": "code",
   "execution_count": 2,
   "metadata": {},
   "outputs": [
    {
     "name": "stdout",
     "output_type": "stream",
     "text": [
      "Obwód i pole koła o promieniu 3:  (18.84955592153876, 28.274333882308138)\n",
      "To samo z odwrotnie podanymi argumentami:  (18.849, 28.273500000000002)\n",
      "Obwód koła o promieniu 3, to: 18.849 a pole wynosi:  28.273500000000002\n"
     ]
    }
   ],
   "source": [
    "# Możemy chcieć, żeby nasza funkcja automatycznie liczyła pole powierzchni i obwód.\n",
    "def circle(radius, pi = pi):\n",
    "    return 2 * pi * radius, pi * radius ** 2\n",
    "print(\"Obwód i pole koła o promieniu 3: \", circle(3))\n",
    "# kiedy podajemy argumenty wraz z ich nazwami możemy je podać w dowolnej kolejności\n",
    "print(\"To samo z odwrotnie podanymi argumentami: \", circle(pi = 3.1415, radius = 3))\n",
    "# automatycznie spakowane wyniki możemy łatwo rozpakować\n",
    "perimiter, surface = circle(pi = 3.1415, radius = 3)\n",
    "print(\"Obwód koła o promieniu 3, to:\", perimiter, \"a pole wynosi: \", surface)"
   ]
  },
  {
   "cell_type": "markdown",
   "metadata": {},
   "source": [
    "Jak widać wszystko nastawione jest na wygodę i szybkość pisania skryptu. Podawanie argumentu wraz z nazwą jest szczególnie przydatne, kiedy funkcja ma bardzo wiele argumentów z domyślnymi wartościami, a my chcemy ustalić tylko jeden z nich.\n",
    "\n",
    "## Funkcje lambda (anonimowe)\n",
    "Czasami definiowanie funkcji i umieszczanie jej na początku naszego skryptu wydaje się nam niepotrzebne, np. dlatego, że operacja jest bardzo prosta i nie będziemy jej wykonywali wielokrotnie. Ten typ funkcji nie ma żadnej przewagi nad standardową funkcją, a ich wykorzystanie jest często kwestią stylistyczną. Warto się z nimi zapoznać chociażby dlatego, że dosyć często możemy je spotkać w kodzie innych programistów."
   ]
  },
  {
   "cell_type": "code",
   "execution_count": 3,
   "metadata": {},
   "outputs": [
    {
     "name": "stdout",
     "output_type": "stream",
     "text": [
      "28.274333882308138\n"
     ]
    }
   ],
   "source": [
    "f = lambda r: pi * r ** 2\n",
    "print(f(3))"
   ]
  },
  {
   "cell_type": "markdown",
   "metadata": {},
   "source": [
    "Może się zdarzyć sytuacja, że funkcja będzie zwracać inną funkcję. W tym przypadku wykorzystanie funkcji lambda będzie wygodne, a kod czytelny."
   ]
  },
  {
   "cell_type": "code",
   "execution_count": 4,
   "metadata": {},
   "outputs": [
    {
     "name": "stdout",
     "output_type": "stream",
     "text": [
      "20.775623268698062\n",
      "20.221606648199447\n"
     ]
    }
   ],
   "source": [
    "def switchBMI(sex = \"M\"):\n",
    "    if sex == \"M\":\n",
    "        return lambda weight, height: (weight+2) / height ** 2\n",
    "    else:\n",
    "        return lambda weight, height: weight / height ** 2\n",
    "BMI = switchBMI(\"M\")\n",
    "print(BMI(75, 1.90))\n",
    "BMI = switchBMI(\"F\")\n",
    "print(BMI(75, 1.90))"
   ]
  },
  {
   "cell_type": "markdown",
   "metadata": {},
   "source": [
    "## Zakresy zmiennych\n",
    "Kiedy korzystamy z funkcji warto pamiętać, że w Pythonie argumenty są przekazywane przez przypisanie (operatorem \"=\"). Oznacza to, że musimy pamiętać o tym, jak zadziała ten operator dla danego argumentu (czy będzie to kopia obiektu czy tylko referencja). Porównajmy działanie takich dwóch fragmentów:"
   ]
  },
  {
   "cell_type": "code",
   "execution_count": 5,
   "metadata": {},
   "outputs": [
    {
     "name": "stdout",
     "output_type": "stream",
     "text": [
      "Zmienna przed uruchomieniem funkcji:  ['red', 'blue', 'green']\n",
      "Na wejściu wewnątrz funkcji:  ['red', 'blue', 'green']\n",
      "Zmiana wewnątrz funkcji:  ['red', 'blue', 'green', 'black']\n",
      "Zmienna po uruchomieniu funkcji:  ['red', 'blue', 'green', 'black']\n"
     ]
    }
   ],
   "source": [
    "def change_arg(lista):\n",
    "    print('Na wejściu wewnątrz funkcji: ', lista)\n",
    "    lista.append('black')\n",
    "    print('Zmiana wewnątrz funkcji: ', lista)\n",
    "\n",
    "kolory = [\"red\", \"blue\", \"green\"]\n",
    "\n",
    "print('Zmienna przed uruchomieniem funkcji: ', kolory)\n",
    "change_arg(kolory)\n",
    "print('Zmienna po uruchomieniu funkcji: ', kolory)"
   ]
  },
  {
   "cell_type": "code",
   "execution_count": 6,
   "metadata": {},
   "outputs": [
    {
     "name": "stdout",
     "output_type": "stream",
     "text": [
      "Zmienna przed uruchomieniem funkcji:  ['red', 'blue', 'green']\n",
      "Na wejściu wewnątrz funkcji:  ['red', 'blue', 'green']\n",
      "Zmiana wewnątrz funkcji:  ['cyan', 'magenta', 'yellow']\n",
      "Zmienna po uruchomieniu funkcji:  ['red', 'blue', 'green']\n"
     ]
    }
   ],
   "source": [
    "def change_arg(lista):\n",
    "    print('Na wejściu wewnątrz funkcji: ', lista)\n",
    "    lista = ['cyan', 'magenta', 'yellow']\n",
    "    print('Zmiana wewnątrz funkcji: ', lista)\n",
    "\n",
    "kolory = [\"red\", \"blue\", \"green\"]\n",
    "\n",
    "print('Zmienna przed uruchomieniem funkcji: ', kolory)\n",
    "change_arg(kolory)\n",
    "print('Zmienna po uruchomieniu funkcji: ', kolory)"
   ]
  },
  {
   "cell_type": "markdown",
   "metadata": {},
   "source": [
    "W pierwszym przykładzie przekazaliśmy do funkcji referencję. Korzystając z metody append() zmieniliśmy zawartość tego, co było pod podanym adresem. Nie próbowaliśmy jednak zmienić samego argumentu (referencji/adresu). Funkcja zmieniła więc de facto zawartość tego, co było poza nią.\n",
    "\n",
    "W drugim przypadku, kiedy do argumentu \"lista\" przypisaliśmy nową listę, czyli próbowaliśmy zmienić przekazany do funkcji argument, było to działanie niemożliwe. Funkcja nie może bowiem zmienić samego argumentu na zewnątrz funkcji. Zmiana miała więc jedynie charakter lokalny.  "
   ]
  },
  {
   "cell_type": "markdown",
   "metadata": {},
   "source": [
    "Każda funkcja w Pythonie ma dostęp (w trybie odczytu) do zmiennych zdefiniowanych do tej pory w ramach skryptu. Poniższy przykład NIE jest zgodny z najlepszymi praktykami progamowania. Niemniej znajomość tej własności może nam czasem oszczędzić czasu, kiedy chcemy uzyskać jakiś efekt \"na szybko\"."
   ]
  },
  {
   "cell_type": "code",
   "execution_count": 7,
   "metadata": {},
   "outputs": [
    {
     "name": "stdout",
     "output_type": "stream",
     "text": [
      "141.3716694115407\n"
     ]
    }
   ],
   "source": [
    "multiplier = 5\n",
    "def circle_surface(radius, pi = pi):\n",
    "    return multiplier * pi * radius ** 2\n",
    "\n",
    "print(circle_surface(3))"
   ]
  },
  {
   "cell_type": "markdown",
   "metadata": {},
   "source": [
    "## Dynamiczna lista argumentów\n",
    "Python umożliwia nam napisanie funkcji, która przyjmie dowolną, nieokreśloną liczbę argumentów. Może być to dokonane za pomocą listy (operator - \\*) lub słownika (operator - \\*\\*). Przyjęło się, że wykorzystuje się do tego celu \\*args i \\*\\*kwargs. O ile w programowaniu strukturalnym nie przyda nam się to zbyt często, to w obiektowym, kiedy np. chcemy rozszerzyć istniejącą klasę, jest to już bardzo przydatne. Z tego też powodu możemy się z tym często spotkać patrząc na kod istniejących bibliotek. "
   ]
  },
  {
   "cell_type": "code",
   "execution_count": 8,
   "metadata": {},
   "outputs": [
    {
     "name": "stdout",
     "output_type": "stream",
     "text": [
      "red\n",
      "blue\n",
      "green\n"
     ]
    }
   ],
   "source": [
    "def printArgs(*args):\n",
    "    for arg in args:\n",
    "        print(arg)\n",
    "\n",
    "printArgs(\"red\", \"blue\", \"green\")"
   ]
  },
  {
   "cell_type": "code",
   "execution_count": 9,
   "metadata": {},
   "outputs": [
    {
     "name": "stdout",
     "output_type": "stream",
     "text": [
      "wzrost 1.92\n",
      "wiek 32\n",
      "imie Maciej\n"
     ]
    }
   ],
   "source": [
    "def printKwargs(**kwargs):\n",
    "    for name, value in kwargs.items():\n",
    "        print(name, value)\n",
    "\n",
    "printKwargs(wzrost = 1.92, wiek = 32, imie = \"Maciej\")"
   ]
  },
  {
   "cell_type": "markdown",
   "metadata": {
    "collapsed": true
   },
   "source": [
    "## Profilowanie\n",
    "Kiedy okazuje się, że napisany przez nas kod działa wolno lub wolniej niż się spodziewamy, dobrze jest zmierzyć to precyzyjnie, a w przypadku bardziej złożonych funkcji profilować jej elementy. Notebook ma zaimplementowane wygodne do tego celu narzędzia: %timeit, %%timeit, %prun (istnieją też inne komendy, ale nie są bezpośrednio wbudowane w notebooki).\n",
    "\n",
    "Przyjrzyjmy się im na przykładach."
   ]
  },
  {
   "cell_type": "code",
   "execution_count": 8,
   "metadata": {
    "collapsed": true
   },
   "outputs": [],
   "source": [
    "import math\n",
    "# Jakaś funkcja, która wykonuje kilka kroków.\n",
    "x = list(range(10000))\n",
    "def complexFunction(x):\n",
    "    results = []\n",
    "    for k in x:\n",
    "        if k >= 500:\n",
    "            results.append(math.sin(k))\n",
    "        else:\n",
    "            results.append(math.cos(k))\n",
    "    for i in results:\n",
    "        i = math.pow(i, 2)\n",
    "        \n",
    "    for i in range(len(results)):\n",
    "        results[i] = math.pow(results[i], 2)\n",
    "    return results"
   ]
  },
  {
   "cell_type": "code",
   "execution_count": 11,
   "metadata": {},
   "outputs": [
    {
     "name": "stdout",
     "output_type": "stream",
     "text": [
      "4.68 ms ± 118 µs per loop (mean ± std. dev. of 7 runs, 100 loops each)\n",
      "4.95 ms ± 139 µs per loop (mean ± std. dev. of 7 runs, 57 loops each)\n"
     ]
    }
   ],
   "source": [
    "# Sprawdzanie średniego czasu wykonania\n",
    "%timeit complexFunction(x)\n",
    "# Sprawdzanie średniego czasu wykonania z ręcznie ustaloną liczbą testów\n",
    "%timeit -n 57 complexFunction(x)"
   ]
  },
  {
   "cell_type": "code",
   "execution_count": 12,
   "metadata": {},
   "outputs": [
    {
     "name": "stdout",
     "output_type": "stream",
     "text": [
      "4.6 ms ± 23.4 µs per loop (mean ± std. dev. of 7 runs, 100 loops each)\n"
     ]
    }
   ],
   "source": [
    "%%timeit\n",
    "# %%timeit pozwala nam mierzyć całej komórki notebook'a\n",
    "x = list(range(10000))\n",
    "complexFunction(x)"
   ]
  },
  {
   "cell_type": "code",
   "execution_count": 13,
   "metadata": {},
   "outputs": [
    {
     "name": "stdout",
     "output_type": "stream",
     "text": [
      " "
     ]
    }
   ],
   "source": [
    "%prun complexFunction(x)\n",
    "# to polecenie powinno nam otworzyć okno na dole strony ze szegółową informacją o tym, co ile razy zostało wywołane i jak czasochłonne było"
   ]
  },
  {
   "cell_type": "code",
   "execution_count": 9,
   "metadata": {},
   "outputs": [
    {
     "name": "stdout",
     "output_type": "stream",
     "text": [
      " "
     ]
    }
   ],
   "source": [
    "%%prun\n",
    "# Możemy profilować całą komórkę, kiedy nasz kod ma kilka linijek.\n",
    "# Nie musimy opakowywać kodu w funkcje, żeby zbadać jego wydajność.\n",
    "y = complexFunction(x)\n",
    "complexFunction(y)"
   ]
  },
  {
   "cell_type": "markdown",
   "metadata": {},
   "source": [
    "Możemy też zobaczyć jakie inne magiczne komendy mamy dostępne w notebooku, a więcej na ten temat przeczytać tutaj:\n",
    "http://ipython.readthedocs.io/en/stable/interactive/magics.html"
   ]
  },
  {
   "cell_type": "code",
   "execution_count": 15,
   "metadata": {},
   "outputs": [
    {
     "data": {
      "application/json": {
       "cell": {
        "!": "OSMagics",
        "HTML": "Other",
        "SVG": "Other",
        "bash": "Other",
        "capture": "ExecutionMagics",
        "debug": "ExecutionMagics",
        "file": "Other",
        "html": "DisplayMagics",
        "javascript": "DisplayMagics",
        "js": "DisplayMagics",
        "latex": "DisplayMagics",
        "markdown": "DisplayMagics",
        "perl": "Other",
        "prun": "ExecutionMagics",
        "pypy": "Other",
        "python": "Other",
        "python2": "Other",
        "python3": "Other",
        "ruby": "Other",
        "script": "ScriptMagics",
        "sh": "Other",
        "svg": "DisplayMagics",
        "sx": "OSMagics",
        "system": "OSMagics",
        "time": "ExecutionMagics",
        "timeit": "ExecutionMagics",
        "writefile": "OSMagics"
       },
       "line": {
        "alias": "OSMagics",
        "alias_magic": "BasicMagics",
        "autocall": "AutoMagics",
        "automagic": "AutoMagics",
        "autosave": "KernelMagics",
        "bookmark": "OSMagics",
        "cat": "Other",
        "cd": "OSMagics",
        "clear": "KernelMagics",
        "colors": "BasicMagics",
        "config": "ConfigMagics",
        "connect_info": "KernelMagics",
        "cp": "Other",
        "debug": "ExecutionMagics",
        "dhist": "OSMagics",
        "dirs": "OSMagics",
        "doctest_mode": "BasicMagics",
        "ed": "Other",
        "edit": "KernelMagics",
        "env": "OSMagics",
        "gui": "BasicMagics",
        "hist": "Other",
        "history": "HistoryMagics",
        "killbgscripts": "ScriptMagics",
        "ldir": "Other",
        "less": "KernelMagics",
        "lf": "Other",
        "lk": "Other",
        "ll": "Other",
        "load": "CodeMagics",
        "load_ext": "ExtensionMagics",
        "loadpy": "CodeMagics",
        "logoff": "LoggingMagics",
        "logon": "LoggingMagics",
        "logstart": "LoggingMagics",
        "logstate": "LoggingMagics",
        "logstop": "LoggingMagics",
        "ls": "Other",
        "lsmagic": "BasicMagics",
        "lx": "Other",
        "macro": "ExecutionMagics",
        "magic": "BasicMagics",
        "man": "KernelMagics",
        "matplotlib": "PylabMagics",
        "mkdir": "Other",
        "more": "KernelMagics",
        "mv": "Other",
        "notebook": "BasicMagics",
        "page": "BasicMagics",
        "pastebin": "CodeMagics",
        "pdb": "ExecutionMagics",
        "pdef": "NamespaceMagics",
        "pdoc": "NamespaceMagics",
        "pfile": "NamespaceMagics",
        "pinfo": "NamespaceMagics",
        "pinfo2": "NamespaceMagics",
        "pip": "BasicMagics",
        "popd": "OSMagics",
        "pprint": "BasicMagics",
        "precision": "BasicMagics",
        "profile": "BasicMagics",
        "prun": "ExecutionMagics",
        "psearch": "NamespaceMagics",
        "psource": "NamespaceMagics",
        "pushd": "OSMagics",
        "pwd": "OSMagics",
        "pycat": "OSMagics",
        "pylab": "PylabMagics",
        "qtconsole": "KernelMagics",
        "quickref": "BasicMagics",
        "recall": "HistoryMagics",
        "rehashx": "OSMagics",
        "reload_ext": "ExtensionMagics",
        "rep": "Other",
        "rerun": "HistoryMagics",
        "reset": "NamespaceMagics",
        "reset_selective": "NamespaceMagics",
        "rm": "Other",
        "rmdir": "Other",
        "run": "ExecutionMagics",
        "save": "CodeMagics",
        "sc": "OSMagics",
        "set_env": "OSMagics",
        "store": "StoreMagics",
        "sx": "OSMagics",
        "system": "OSMagics",
        "tb": "ExecutionMagics",
        "time": "ExecutionMagics",
        "timeit": "ExecutionMagics",
        "unalias": "OSMagics",
        "unload_ext": "ExtensionMagics",
        "who": "NamespaceMagics",
        "who_ls": "NamespaceMagics",
        "whos": "NamespaceMagics",
        "xdel": "NamespaceMagics",
        "xmode": "BasicMagics"
       }
      },
      "text/plain": [
       "Available line magics:\n",
       "%alias  %alias_magic  %autocall  %automagic  %autosave  %bookmark  %cat  %cd  %clear  %colors  %config  %connect_info  %cp  %debug  %dhist  %dirs  %doctest_mode  %ed  %edit  %env  %gui  %hist  %history  %killbgscripts  %ldir  %less  %lf  %lk  %ll  %load  %load_ext  %loadpy  %logoff  %logon  %logstart  %logstate  %logstop  %ls  %lsmagic  %lx  %macro  %magic  %man  %matplotlib  %mkdir  %more  %mv  %notebook  %page  %pastebin  %pdb  %pdef  %pdoc  %pfile  %pinfo  %pinfo2  %popd  %pprint  %precision  %profile  %prun  %psearch  %psource  %pushd  %pwd  %pycat  %pylab  %qtconsole  %quickref  %recall  %rehashx  %reload_ext  %rep  %rerun  %reset  %reset_selective  %rm  %rmdir  %run  %save  %sc  %set_env  %store  %sx  %system  %tb  %time  %timeit  %unalias  %unload_ext  %who  %who_ls  %whos  %xdel  %xmode\n",
       "\n",
       "Available cell magics:\n",
       "%%!  %%HTML  %%SVG  %%bash  %%capture  %%debug  %%file  %%html  %%javascript  %%js  %%latex  %%markdown  %%perl  %%prun  %%pypy  %%python  %%python2  %%python3  %%ruby  %%script  %%sh  %%svg  %%sx  %%system  %%time  %%timeit  %%writefile\n",
       "\n",
       "Automagic is ON, % prefix IS NOT needed for line magics."
      ]
     },
     "execution_count": 15,
     "metadata": {},
     "output_type": "execute_result"
    }
   ],
   "source": [
    "%lsmagic"
   ]
  },
  {
   "cell_type": "markdown",
   "metadata": {},
   "source": [
    "## Obiekty\n",
    "Dla osób początkujących w Pythonie oraz średnio zaawansowanych dokładna znajomość klas/obiektów nie jest niezbędna. Warto jednak zapoznać się z tym tematem chociaż pobieżnie, żeby potrafić analizować kod napisany przez innych w podejściu obiektowym.\n",
    "\n",
    "Większość popularnych języków progamowania to obecnie języki obiektowe (ang. object oriented programming). Jest kilka zalet działania na obiekatach. Pierwsza o której wspomnieliśmy na początku kursu to możliwość tworzenia elementów, które posiadają stan (podobnie jak zmienne), ale posiadających więcej predefiniowanych atrybutów (wiele zmiennych) oraz przynależących do nich funkcji. Ponieważ możliwe jest równoczesne tworzenie kilku obiektów tej samej klasy programowanie obiektowe bardzo ułatwia sytuację gdzie potrzebujemy wiele instancji (np. użytkowników), co w programowaniu strukturalnym jest znacznie bardziej uciążliwe.\n",
    "\n",
    "Dodatkowo programowanie obiektowe narzuca pewną organizację kodu i jego separację (ang. encapsulation). Staje się to bardzo praktyczne gdy nasz projekt się rozrośnie, ponieważ zdecydowanie ułatwia to zarządzanie kodem i rozwiązywanie problemów. Więcej o wadach i zaletach programowania obiektowego można przeczytać pod poniższymi adresami:\n",
    "* https://www.roberthalf.com/blog/salaries-and-skills/4-advantages-of-object-oriented-programming\n",
    "* https://softwareengineering.stackexchange.com/a/120038\n",
    "* http://www.freekpaans.nl/2015/06/exploring-the-essence-of-object-oriented-programming/\n",
    "\n",
    "Poniżej przykład prostej klasy, który pozwoli nam zrozumieć różnicę pomiędzy atrybutami klasy, a atrybutami pojedynczych jej instancji (obiektów)."
   ]
  },
  {
   "cell_type": "code",
   "execution_count": 3,
   "metadata": {
    "collapsed": true
   },
   "outputs": [],
   "source": [
    "class prostaKlasa:\n",
    "    # Atrybut klasy\n",
    "    i = 3\n",
    "    def __init__(self):\n",
    "        # Atrybut instancji klasy\n",
    "        self.j = 7"
   ]
  },
  {
   "cell_type": "markdown",
   "metadata": {},
   "source": [
    "Możemy zmieniać atrybuty pojedynczego obiektu, w sposób, który nie wpłynie na pozostałe instancje."
   ]
  },
  {
   "cell_type": "code",
   "execution_count": 4,
   "metadata": {},
   "outputs": [
    {
     "name": "stdout",
     "output_type": "stream",
     "text": [
      "3 3\n",
      "3 3 8 7\n"
     ]
    }
   ],
   "source": [
    "a = prostaKlasa()\n",
    "b = prostaKlasa()\n",
    "print(a.i, b.i)\n",
    "# Mo\n",
    "a.j = 8\n",
    "print(a.i, b.i, a.j, b.j)"
   ]
  },
  {
   "cell_type": "markdown",
   "metadata": {},
   "source": [
    "Poniższa linia zmienia definicję klasy. Zmienione zostaną wszystkie już istniejące instancje (obiekty)."
   ]
  },
  {
   "cell_type": "code",
   "execution_count": 6,
   "metadata": {},
   "outputs": [
    {
     "name": "stdout",
     "output_type": "stream",
     "text": [
      "5 5 8 7\n",
      "5 7\n"
     ]
    }
   ],
   "source": [
    "prostaKlasa.i = 5\n",
    "print(a.i, b.i, a.j, b.j)\n",
    "\n",
    "# Nowe obiekty będą już tworzone zgodnie ze zmodyfikowanym wzorcem.\n",
    "c = prostaKlasa()\n",
    "print(c.i, c.j)"
   ]
  },
  {
   "cell_type": "markdown",
   "metadata": {},
   "source": [
    "Jeżeli jednak przypiszemy do tej samej nazwy zmiennej (atrybutu instancji) wartość, \"i\" stanie się atrybutem instancji dla obiektu \"a\", ale dla pozostałych obiektów dalej będzie atrybutem klasy."
   ]
  },
  {
   "cell_type": "code",
   "execution_count": 19,
   "metadata": {},
   "outputs": [
    {
     "name": "stdout",
     "output_type": "stream",
     "text": [
      "1 17 17 17\n"
     ]
    }
   ],
   "source": [
    "a.i = 1\n",
    "prostaKlasa.i = 17\n",
    "d = prostaKlasa()\n",
    "print(a.i, b.i, c.i, d.i)"
   ]
  },
  {
   "cell_type": "markdown",
   "metadata": {},
   "source": [
    "Warto wiec zapamiętać, że atrybuty instancji są nadrzędne względem atrybutów klasy i je nadpisują."
   ]
  },
  {
   "cell_type": "markdown",
   "metadata": {},
   "source": [
    "Przyjrzyjmy się teraz słowu \"self\" i zobaczmy jak wywołane są metody klasy."
   ]
  },
  {
   "cell_type": "code",
   "execution_count": 20,
   "metadata": {
    "collapsed": true
   },
   "outputs": [],
   "source": [
    "class nowaKlasa:\n",
    "    def __init__(self):\n",
    "        # Atrybut instancji klasy\n",
    "        self.imie = \"Maciej\"\n",
    "    # Funkcja statyczna\n",
    "    def powitanie():\n",
    "        # Atrybut instancji klasy\n",
    "        print(\"Witaj\")\n",
    "    \n",
    "    # Funkcja statyczna\n",
    "    def powitanie2(self):\n",
    "        # Atrybut instancji klasy\n",
    "        print(\"Witaj\")\n",
    "    \n",
    "    def personalnie(self):\n",
    "        print(\"Witaj\", self.imie)"
   ]
  },
  {
   "cell_type": "code",
   "execution_count": 21,
   "metadata": {
    "collapsed": true
   },
   "outputs": [],
   "source": [
    "uczen = nowaKlasa()"
   ]
  },
  {
   "cell_type": "markdown",
   "metadata": {},
   "source": [
    "Obydwie linie kodu w poniższej komórce działają w dokładnie ten sam sposób. Zwykle używamy pierwszej formy jako formy skróconej. W praktyce za każdym razem, kiedy wywołujemy *instancja.metoda()* wywołujemy zapytanie *klasa.metoda(instancja)*. Tzn, kiedy wywołujemy metodę jakiejś instancji, to tak naprawdę wywołujemy metodę klasy i przekazujemy tam utworzony obiekt."
   ]
  },
  {
   "cell_type": "code",
   "execution_count": 22,
   "metadata": {},
   "outputs": [
    {
     "name": "stdout",
     "output_type": "stream",
     "text": [
      "Witaj Maciej\n",
      "Witaj Maciej\n"
     ]
    }
   ],
   "source": [
    "uczen.personalnie()\n",
    "nowaKlasa.personalnie(uczen)"
   ]
  },
  {
   "cell_type": "markdown",
   "metadata": {},
   "source": [
    "Z tego powodu poniższy kod nie zadziała:"
   ]
  },
  {
   "cell_type": "code",
   "execution_count": 23,
   "metadata": {},
   "outputs": [
    {
     "ename": "TypeError",
     "evalue": "powitanie() takes 0 positional arguments but 1 was given",
     "output_type": "error",
     "traceback": [
      "\u001b[0;31m---------------------------------------------------------------------------\u001b[0m",
      "\u001b[0;31mTypeError\u001b[0m                                 Traceback (most recent call last)",
      "\u001b[0;32m<ipython-input-23-b38c3cb4c53d>\u001b[0m in \u001b[0;36m<module>\u001b[0;34m()\u001b[0m\n\u001b[0;32m----> 1\u001b[0;31m \u001b[0muczen\u001b[0m\u001b[0;34m.\u001b[0m\u001b[0mpowitanie\u001b[0m\u001b[0;34m(\u001b[0m\u001b[0;34m)\u001b[0m\u001b[0;34m\u001b[0m\u001b[0m\n\u001b[0m",
      "\u001b[0;31mTypeError\u001b[0m: powitanie() takes 0 positional arguments but 1 was given"
     ]
    }
   ],
   "source": [
    "uczen.powitanie()"
   ]
  },
  {
   "cell_type": "markdown",
   "metadata": {},
   "source": [
    "Wywołanie statycznej funkcji może zostać wykonane wyłącznie poprzez wywołanie metody klasy bez podawania argumentów."
   ]
  },
  {
   "cell_type": "code",
   "execution_count": null,
   "metadata": {
    "collapsed": true
   },
   "outputs": [],
   "source": [
    "nowaKlasa.powitanie()"
   ]
  },
  {
   "cell_type": "markdown",
   "metadata": {},
   "source": [
    "Możemy jednak identyczną funkcję utworzyć (zobaczmy definicję powitanie2 powyżej) z argumentem self, a później z niego nie korzystać."
   ]
  },
  {
   "cell_type": "code",
   "execution_count": null,
   "metadata": {
    "collapsed": true
   },
   "outputs": [],
   "source": [
    "uczen.powitanie2()"
   ]
  },
  {
   "cell_type": "markdown",
   "metadata": {},
   "source": [
    "To spowoduje jednak, że nie zadziała poniższy kod."
   ]
  },
  {
   "cell_type": "code",
   "execution_count": null,
   "metadata": {
    "collapsed": true
   },
   "outputs": [],
   "source": [
    "nowaKlasa.powitanie2()"
   ]
  },
  {
   "cell_type": "markdown",
   "metadata": {},
   "source": [
    "W praktyce, zwykle nie stosuje się raczej statycznych funkcji bez przekazywania instancji klasy.\n",
    "Warto też zauważyć, że \"self\" nie jest słowem kluczowym Pythona, ale mocno utartym standardem. Co prawda poniższy kod jest poprawny, ale jest to zdecydowanie niezalecane. Wykorzystanie słowa self w Pythonie jest tak silne, że o jego istnienia opierają się nawet niektóre IDE."
   ]
  },
  {
   "cell_type": "code",
   "execution_count": null,
   "metadata": {
    "collapsed": true
   },
   "outputs": [],
   "source": [
    "class brzydkaKlasa:\n",
    "    def __init__(self):\n",
    "        self.imie = \"Maciej\"\n",
    "    def personalnie(dowolneSlowo):\n",
    "        print(\"Witaj\", dowolneSlowo.imie)\n",
    "test = brzydkaKlasa()\n",
    "test.personalnie()"
   ]
  },
  {
   "cell_type": "markdown",
   "metadata": {},
   "source": [
    "Szczegóły dotyczące klas, takie jak np. dziedziczenie pozostawiamy na później, kiedy już mocniej zaprzyjaźnimy się z Pythonem."
   ]
  },
  {
   "cell_type": "markdown",
   "metadata": {
    "collapsed": true
   },
   "source": [
    "Więcej o obiektach możemy przeczytać np. tutaj:\n",
    "http://python-textbok.readthedocs.io/en/1.0/Classes.html"
   ]
  }
 ],
 "metadata": {
  "kernelspec": {
   "display_name": "Python 3",
   "language": "python",
   "name": "python3"
  },
  "language_info": {
   "codemirror_mode": {
    "name": "ipython",
    "version": 3
   },
   "file_extension": ".py",
   "mimetype": "text/x-python",
   "name": "python",
   "nbconvert_exporter": "python",
   "pygments_lexer": "ipython3",
   "version": "3.6.3"
  }
 },
 "nbformat": 4,
 "nbformat_minor": 2
}
