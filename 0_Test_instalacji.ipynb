{
 "cells": [
  {
   "cell_type": "markdown",
   "metadata": {
    "collapsed": true
   },
   "source": [
    "## Obsługa Notebook'a\n",
    "\n",
    "Obsługa notatnika jest wyjątkowo prosta. Najważniejsze informacje:\n",
    "* Pojedynczą komórkę wykonujemy kombinacją klawiszy Shift+Enter.\n",
    "* Jeżeli chcemy uruchomić wszystkie komórki lub np. wszystkie poniżej obecnei aktywnej, powyżej Wybieramy Cell > i stosowną opcję Run.\n",
    "* Ikona kwadratu zatrzyma obecnie wykonywaną operację.\n",
    "* Ikona \"+\" dodaje nową pustą komórkę pod obecnie wybraną.\n",
    "* Kombinacja klawiszy Ctrl+/ słuzy do komentowania linii.\n",
    "* Jeżeli chcemy zmienić typ komórki z kodu na tekst/opis z rozwijanej listy na powyższym pasku wybieramy \"Markdown\" zamiast \"Code\".\n",
    "* Kernel (dany notatnik) możemy uruchomić ponownie wybierając Kernel > Restart powyżej lub ikonę zakręconej strzałki. Ponowne uruchomienie notatnika spowoduje utratę wszystkich wyników.\n",
    "* Co jakiś czas notatnik zapisuje się automatycznie. Niemniej warto w kluczowych momentach korzystać z ręcznego zapisu (Ctrl+S).\n",
    "\n",
    "W celu przetestowania instalacji możemy uruchomić wszystkie poniższe komórki."
   ]
  },
  {
   "cell_type": "code",
   "execution_count": null,
   "metadata": {
    "collapsed": true
   },
   "outputs": [],
   "source": [
    "#W Pythonie biblioteki ładujemy poleceniem \"import\". Przy importowaniu bibliotek możemy im zdefiniować alias/nazwę używając \"as\".\n",
    "# Pandas i Numpy to bardzo często wykorzystywane biblioteki.\n",
    "# Skrócenie ich nazwy oszczędzi nam trochę pisania.\n",
    "# Skróty \"np\" i \"pd\" są powszechnie wykorzystywane.\n",
    "import numpy as np\n",
    "import pandas as pd"
   ]
  },
  {
   "cell_type": "markdown",
   "metadata": {},
   "source": [
    "## Test Numpy\n",
    "Sprawdźmy czy działa Numpy. Wykonajmy kilka podstawowych poleceń i sprawdźmy czy uzyskujemy oczekiwane rezultaty."
   ]
  },
  {
   "cell_type": "code",
   "execution_count": null,
   "metadata": {
    "collapsed": false
   },
   "outputs": [],
   "source": [
    "print (np.__version__)\n",
    "a = np.arange(12).reshape(3, 4)\n",
    "print(a)\n",
    "print(a.shape)\n",
    "print(type(a))\n",
    "print(\"Suma macierzy to: \", a.sum())\n"
   ]
  },
  {
   "cell_type": "markdown",
   "metadata": {},
   "source": [
    "Wykonanie powyższych poleceń powinno dać następujący wynik (z dokładnością do wersji pakietu):\n",
    "```\n",
    "1.11.2\n",
    "[[ 0  1  2  3]\n",
    " [ 4  5  6  7]\n",
    " [ 8  9 10 11]]\n",
    "(3, 4)\n",
    "<class 'numpy.ndarray'>\n",
    "Suma macierzy to:  66\n",
    "```"
   ]
  },
  {
   "cell_type": "markdown",
   "metadata": {},
   "source": [
    "## Test Pandas\n",
    "Sprawdźmy czy działa Pandas. W tym celu wykonajmy kilka pierwszych poleceń z tutoriala:\n",
    "http://pandas.pydata.org/pandas-docs/stable/10min.html"
   ]
  },
  {
   "cell_type": "code",
   "execution_count": null,
   "metadata": {
    "collapsed": false
   },
   "outputs": [],
   "source": [
    "print (pd.__version__)\n",
    "s = pd.Series([1,3,5,np.nan,6,8])\n",
    "print(s)\n",
    "print(\"Suma serii to: \", s.sum())\n",
    "dates = pd.date_range('20130101', periods=6)\n",
    "print(dates)\n",
    "df2 = pd.DataFrame({ 'A' : 1., 'B' : pd.Timestamp('20130102'), 'C' : pd.Series(1,index=list(range(4)),dtype='float32'), 'D' : np.array([3] * 4,dtype='int32'), 'E' : pd.Categorical([\"test\",\"train\",\"test\",\"train\"]), 'F' : 'foo' })\n",
    "print(df2)\n",
    "print(df2.dtypes)"
   ]
  },
  {
   "cell_type": "markdown",
   "metadata": {
    "collapsed": true
   },
   "source": [
    "Wykonanie powyższych poleceń powinno dać następujący wynik (z dokładnością do wersji pakietu):\n",
    "```\n",
    "0.19.2\n",
    "0    1.0\n",
    "1    3.0\n",
    "2    5.0\n",
    "3    NaN\n",
    "4    6.0\n",
    "5    8.0\n",
    "dtype: float64\n",
    "Suma serii to:  23.0\n",
    "DatetimeIndex(['2013-01-01', '2013-01-02', '2013-01-03', '2013-01-04',\n",
    "               '2013-01-05', '2013-01-06'],\n",
    "              dtype='datetime64[ns]', freq='D')\n",
    "     A          B    C  D      E    F\n",
    "0  1.0 2013-01-02  1.0  3   test  foo\n",
    "1  1.0 2013-01-02  1.0  3  train  foo\n",
    "2  1.0 2013-01-02  1.0  3   test  foo\n",
    "3  1.0 2013-01-02  1.0  3  train  foo\n",
    "A           float64\n",
    "B    datetime64[ns]\n",
    "C           float32\n",
    "D             int32\n",
    "E          category\n",
    "F            object\n",
    "dtype: object\n",
    "```"
   ]
  }
 ],
 "metadata": {
  "anaconda-cloud": {},
  "kernelspec": {
   "display_name": "Python 3",
   "language": "python",
   "name": "python3"
  },
  "language_info": {
   "codemirror_mode": {
    "name": "ipython",
    "version": 3
   },
   "file_extension": ".py",
   "mimetype": "text/x-python",
   "name": "python",
   "nbconvert_exporter": "python",
   "pygments_lexer": "ipython3",
   "version": "3.5.2"
  }
 },
 "nbformat": 4,
 "nbformat_minor": 2
}
